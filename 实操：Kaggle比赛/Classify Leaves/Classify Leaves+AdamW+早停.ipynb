{
 "cells": [
  {
   "cell_type": "markdown",
   "source": [
    "# 载入&数据初步可视化"
   ],
   "metadata": {
    "collapsed": false
   },
   "id": "b37c1954fb763f72"
  },
  {
   "cell_type": "code",
   "execution_count": 1,
   "outputs": [],
   "source": [
    "%matplotlib inline\n",
    "import zipfile, os\n",
    "import torch, torchvision\n",
    "import matplotlib.pyplot as plt\n",
    "import pandas as pd\n",
    "import seaborn as sns\n",
    "import numpy as np\n",
    "from torch import nn\n",
    "from torchvision import transforms, datasets\n",
    "from torch.utils.data import Dataset, DataLoader\n",
    "from d2l import torch as d2l\n",
    "from PIL import Image\n",
    "from sklearn.model_selection import train_test_split"
   ],
   "metadata": {
    "collapsed": false,
    "ExecuteTime": {
     "end_time": "2024-01-24T08:04:59.941724200Z",
     "start_time": "2024-01-24T08:04:57.813181100Z"
    }
   },
   "id": "5a459f100a6891f9"
  },
  {
   "cell_type": "code",
   "execution_count": 2,
   "id": "initial_id",
   "metadata": {
    "collapsed": true,
    "ExecuteTime": {
     "end_time": "2024-01-24T08:05:04.551804500Z",
     "start_time": "2024-01-24T08:04:59.946708600Z"
    }
   },
   "outputs": [],
   "source": [
    "# 用相对路径指定zip文件\n",
    "zip_path = zip_path = \"/home/ly/miniconda3/envs/shiwei/data/classify-leaves.zip\"\n",
    "# 打开zip文件\n",
    "with zipfile.ZipFile(zip_path, 'r') as zip_ref:\n",
    "    # 解压到当前目录\n",
    "    zip_ref.extractall('/home/ly/miniconda3/envs/shiwei/data//classify-leaves')"
   ]
  },
  {
   "cell_type": "code",
   "execution_count": 3,
   "outputs": [
    {
     "data": {
      "text/plain": "          image             label\n0  images/0.jpg  maclura_pomifera\n1  images/1.jpg  maclura_pomifera\n2  images/2.jpg  maclura_pomifera\n3  images/3.jpg  maclura_pomifera\n4  images/4.jpg  maclura_pomifera",
      "text/html": "<div>\n<style scoped>\n    .dataframe tbody tr th:only-of-type {\n        vertical-align: middle;\n    }\n\n    .dataframe tbody tr th {\n        vertical-align: top;\n    }\n\n    .dataframe thead th {\n        text-align: right;\n    }\n</style>\n<table border=\"1\" class=\"dataframe\">\n  <thead>\n    <tr style=\"text-align: right;\">\n      <th></th>\n      <th>image</th>\n      <th>label</th>\n    </tr>\n  </thead>\n  <tbody>\n    <tr>\n      <th>0</th>\n      <td>images/0.jpg</td>\n      <td>maclura_pomifera</td>\n    </tr>\n    <tr>\n      <th>1</th>\n      <td>images/1.jpg</td>\n      <td>maclura_pomifera</td>\n    </tr>\n    <tr>\n      <th>2</th>\n      <td>images/2.jpg</td>\n      <td>maclura_pomifera</td>\n    </tr>\n    <tr>\n      <th>3</th>\n      <td>images/3.jpg</td>\n      <td>maclura_pomifera</td>\n    </tr>\n    <tr>\n      <th>4</th>\n      <td>images/4.jpg</td>\n      <td>maclura_pomifera</td>\n    </tr>\n  </tbody>\n</table>\n</div>"
     },
     "execution_count": 3,
     "metadata": {},
     "output_type": "execute_result"
    }
   ],
   "source": [
    "labels_dataframe = pd.read_csv('/home/ly/miniconda3/envs/shiwei/data//classify-leaves/train.csv')\n",
    "labels_dataframe.head(5)"
   ],
   "metadata": {
    "collapsed": false,
    "ExecuteTime": {
     "end_time": "2024-01-24T08:05:04.768178700Z",
     "start_time": "2024-01-24T08:05:04.554902600Z"
    }
   },
   "id": "a4c1d269be2b0ed5"
  },
  {
   "cell_type": "code",
   "execution_count": 4,
   "outputs": [
    {
     "data": {
      "text/plain": "               image             label\ncount          18353             18353\nunique         18353               176\ntop     images/0.jpg  maclura_pomifera\nfreq               1               353",
      "text/html": "<div>\n<style scoped>\n    .dataframe tbody tr th:only-of-type {\n        vertical-align: middle;\n    }\n\n    .dataframe tbody tr th {\n        vertical-align: top;\n    }\n\n    .dataframe thead th {\n        text-align: right;\n    }\n</style>\n<table border=\"1\" class=\"dataframe\">\n  <thead>\n    <tr style=\"text-align: right;\">\n      <th></th>\n      <th>image</th>\n      <th>label</th>\n    </tr>\n  </thead>\n  <tbody>\n    <tr>\n      <th>count</th>\n      <td>18353</td>\n      <td>18353</td>\n    </tr>\n    <tr>\n      <th>unique</th>\n      <td>18353</td>\n      <td>176</td>\n    </tr>\n    <tr>\n      <th>top</th>\n      <td>images/0.jpg</td>\n      <td>maclura_pomifera</td>\n    </tr>\n    <tr>\n      <th>freq</th>\n      <td>1</td>\n      <td>353</td>\n    </tr>\n  </tbody>\n</table>\n</div>"
     },
     "execution_count": 4,
     "metadata": {},
     "output_type": "execute_result"
    }
   ],
   "source": [
    "labels_dataframe.describe()"
   ],
   "metadata": {
    "collapsed": false,
    "ExecuteTime": {
     "end_time": "2024-01-24T08:05:04.780796500Z",
     "start_time": "2024-01-24T08:05:04.668210400Z"
    }
   },
   "id": "7f4b981f663655cf"
  },
  {
   "cell_type": "code",
   "execution_count": 5,
   "outputs": [
    {
     "name": "stdout",
     "output_type": "stream",
     "text": [
      "                   image                             \n",
      "                   count unique              top freq\n",
      "label                                                \n",
      "abies_concolor       176    176   images/167.jpg    1\n",
      "abies_nordmanniana    93     93  images/1284.jpg    1\n",
      "acer_campestre        80     80  images/1922.jpg    1\n",
      "acer_ginnala          86     86  images/1916.jpg    1\n",
      "acer_griseum          64     64  images/4781.jpg    1\n",
      "...                  ...    ...              ...  ...\n",
      "ulmus_parvifolia      99     99  images/1152.jpg    1\n",
      "ulmus_procera         58     58  images/3756.jpg    1\n",
      "ulmus_pumila         189    189   images/104.jpg    1\n",
      "ulmus_rubra          235    235     images/6.jpg    1\n",
      "zelkova_serrata      115    115   images/365.jpg    1\n",
      "\n",
      "[176 rows x 4 columns]\n"
     ]
    }
   ],
   "source": [
    "grouped_labels = labels_dataframe.groupby('label').describe()\n",
    "print(grouped_labels)"
   ],
   "metadata": {
    "collapsed": false,
    "ExecuteTime": {
     "end_time": "2024-01-24T08:05:05.220707Z",
     "start_time": "2024-01-24T08:05:04.668210400Z"
    }
   },
   "id": "996a3b80c26be8ee"
  },
  {
   "cell_type": "markdown",
   "source": [
    "# 数据处理"
   ],
   "metadata": {
    "collapsed": false
   },
   "id": "d11e62ab70c10ef0"
  },
  {
   "cell_type": "markdown",
   "source": [
    "## 类别进行顺序编码"
   ],
   "metadata": {
    "collapsed": false
   },
   "id": "1d594a4c95a55638"
  },
  {
   "cell_type": "code",
   "execution_count": 6,
   "outputs": [
    {
     "data": {
      "text/plain": "                  image                    label  label_encoded\n0          images/0.jpg         maclura_pomifera              0\n1          images/1.jpg         maclura_pomifera              0\n2          images/2.jpg         maclura_pomifera              0\n3          images/3.jpg         maclura_pomifera              0\n4          images/4.jpg         maclura_pomifera              0\n...                 ...                      ...            ...\n18348  images/18348.jpg          aesculus_glabra            107\n18349  images/18349.jpg  liquidambar_styraciflua             75\n18350  images/18350.jpg            cedrus_libani            133\n18351  images/18351.jpg      prunus_pensylvanica             73\n18352  images/18352.jpg          quercus_montana             19\n\n[18353 rows x 3 columns]",
      "text/html": "<div>\n<style scoped>\n    .dataframe tbody tr th:only-of-type {\n        vertical-align: middle;\n    }\n\n    .dataframe tbody tr th {\n        vertical-align: top;\n    }\n\n    .dataframe thead th {\n        text-align: right;\n    }\n</style>\n<table border=\"1\" class=\"dataframe\">\n  <thead>\n    <tr style=\"text-align: right;\">\n      <th></th>\n      <th>image</th>\n      <th>label</th>\n      <th>label_encoded</th>\n    </tr>\n  </thead>\n  <tbody>\n    <tr>\n      <th>0</th>\n      <td>images/0.jpg</td>\n      <td>maclura_pomifera</td>\n      <td>0</td>\n    </tr>\n    <tr>\n      <th>1</th>\n      <td>images/1.jpg</td>\n      <td>maclura_pomifera</td>\n      <td>0</td>\n    </tr>\n    <tr>\n      <th>2</th>\n      <td>images/2.jpg</td>\n      <td>maclura_pomifera</td>\n      <td>0</td>\n    </tr>\n    <tr>\n      <th>3</th>\n      <td>images/3.jpg</td>\n      <td>maclura_pomifera</td>\n      <td>0</td>\n    </tr>\n    <tr>\n      <th>4</th>\n      <td>images/4.jpg</td>\n      <td>maclura_pomifera</td>\n      <td>0</td>\n    </tr>\n    <tr>\n      <th>...</th>\n      <td>...</td>\n      <td>...</td>\n      <td>...</td>\n    </tr>\n    <tr>\n      <th>18348</th>\n      <td>images/18348.jpg</td>\n      <td>aesculus_glabra</td>\n      <td>107</td>\n    </tr>\n    <tr>\n      <th>18349</th>\n      <td>images/18349.jpg</td>\n      <td>liquidambar_styraciflua</td>\n      <td>75</td>\n    </tr>\n    <tr>\n      <th>18350</th>\n      <td>images/18350.jpg</td>\n      <td>cedrus_libani</td>\n      <td>133</td>\n    </tr>\n    <tr>\n      <th>18351</th>\n      <td>images/18351.jpg</td>\n      <td>prunus_pensylvanica</td>\n      <td>73</td>\n    </tr>\n    <tr>\n      <th>18352</th>\n      <td>images/18352.jpg</td>\n      <td>quercus_montana</td>\n      <td>19</td>\n    </tr>\n  </tbody>\n</table>\n<p>18353 rows × 3 columns</p>\n</div>"
     },
     "execution_count": 6,
     "metadata": {},
     "output_type": "execute_result"
    }
   ],
   "source": [
    "labels_dataframe['label_encoded'], _ = pd.factorize(labels_dataframe['label'])\n",
    "labels_dataframe"
   ],
   "metadata": {
    "collapsed": false,
    "ExecuteTime": {
     "end_time": "2024-01-24T08:05:05.291195700Z",
     "start_time": "2024-01-24T08:05:05.205868500Z"
    }
   },
   "id": "43f6de94638339f3"
  },
  {
   "cell_type": "markdown",
   "source": [
    "## 定义函数使得csv与图像对应起来"
   ],
   "metadata": {
    "collapsed": false
   },
   "id": "660f72f20cf76e73"
  },
  {
   "cell_type": "code",
   "execution_count": 7,
   "outputs": [],
   "source": [
    "# 定义自定义数据集\n",
    "class CustomDataset(Dataset):\n",
    "    def __init__(self, annotations, img_dir, transform=None):\n",
    "        self.img_labels = annotations\n",
    "        self.img_dir = img_dir\n",
    "        self.transform = transform\n",
    "\n",
    "    def __len__(self):\n",
    "        return len(self.img_labels)\n",
    "\n",
    "    def __getitem__(self, index):\n",
    "        img_name = os.path.join(self.img_dir, self.img_labels.iloc[index, 0])\n",
    "        image = Image.open(img_name).convert('RGB')\n",
    "        label = self.img_labels.iloc[index, 2]\n",
    "\n",
    "        if self.transform:\n",
    "            image = self.transform(image)\n",
    "\n",
    "        return image, torch.tensor(label)"
   ],
   "metadata": {
    "collapsed": false,
    "ExecuteTime": {
     "end_time": "2024-01-24T08:05:05.291722100Z",
     "start_time": "2024-01-24T08:05:05.254774600Z"
    }
   },
   "id": "29d590e1c2ca867c"
  },
  {
   "cell_type": "markdown",
   "source": [
    "## 数据增广"
   ],
   "metadata": {
    "collapsed": false
   },
   "id": "b325783c032dd17c"
  },
  {
   "cell_type": "code",
   "execution_count": 8,
   "outputs": [],
   "source": [
    "# 定义预处理操作\n",
    "train_trans = transforms.Compose([transforms.Resize((224, 224)), \n",
    "                                  transforms.RandomHorizontalFlip(p=0.5),\n",
    "                                  transforms.RandomVerticalFlip(p=0.5),\n",
    "                                  transforms.ColorJitter(brightness=0.5, contrast=0.5, saturation=0.5, hue=0),\n",
    "                                  transforms.ToTensor(),\n",
    "                                  transforms.Normalize([0.7579, 0.7781, 0.7591], [0.2479, 0.2348, 0.2630])])\n",
    "valid_trans = transforms.Compose([transforms.Resize((224, 224)),\n",
    "                                  transforms.ToTensor(),\n",
    "                                  transforms.Normalize([0.7579, 0.7781, 0.7591], [0.2479, 0.2348, 0.2630])])"
   ],
   "metadata": {
    "collapsed": false,
    "ExecuteTime": {
     "end_time": "2024-01-24T08:05:05.291722100Z",
     "start_time": "2024-01-24T08:05:05.275231100Z"
    }
   },
   "id": "41a90e7ba0498518"
  },
  {
   "cell_type": "code",
   "execution_count": 9,
   "outputs": [],
   "source": [
    "train_data, valid_data = train_test_split(labels_dataframe, test_size=0.2, random_state=42)"
   ],
   "metadata": {
    "collapsed": false,
    "ExecuteTime": {
     "end_time": "2024-01-24T08:05:05.318581200Z",
     "start_time": "2024-01-24T08:05:05.275231100Z"
    }
   },
   "id": "4b25d28dad4d0c54"
  },
  {
   "cell_type": "code",
   "execution_count": 10,
   "outputs": [],
   "source": [
    "images_folder = '/home/ly/miniconda3/envs/shiwei/data/classify-leaves'\n",
    "# 此处注意是识别image文件夹上的那个文件，不要写成image文件\n",
    "\n",
    "# 创建数据集和数据加载器\n",
    "train_dataset = CustomDataset(train_data, images_folder, transform=train_trans)\n",
    "valid_dataset = CustomDataset(valid_data, images_folder, transform=valid_trans)\n",
    "\n",
    "train_iter = DataLoader(train_dataset, batch_size=256, shuffle=True, num_workers=2)\n",
    "valid_iter = DataLoader(valid_dataset, batch_size=256, shuffle=None, num_workers=2)"
   ],
   "metadata": {
    "collapsed": false,
    "ExecuteTime": {
     "end_time": "2024-01-24T08:05:05.471994700Z",
     "start_time": "2024-01-24T08:05:05.320575700Z"
    }
   },
   "id": "4a3d706546fd97a7"
  },
  {
   "cell_type": "code",
   "execution_count": 11,
   "outputs": [
    {
     "name": "stdout",
     "output_type": "stream",
     "text": [
      "tensor([[[[-0.1940, -0.1940, -0.1940,  ..., -0.1940, -0.1940, -0.1940],\n",
      "          [-0.1940, -0.1940, -0.1940,  ..., -0.1940, -0.1940, -0.1940],\n",
      "          [-0.1940, -0.1940, -0.1940,  ..., -0.1940, -0.1940, -0.1940],\n",
      "          ...,\n",
      "          [-1.3805, -1.3646, -1.3330,  ..., -0.5737, -0.6211, -0.6370],\n",
      "          [-1.3805, -1.3646, -1.3646,  ..., -0.6053, -0.6528, -0.6686],\n",
      "          [-1.3805, -1.3646, -1.3488,  ..., -0.6528, -0.7160, -0.7477]],\n",
      "\n",
      "         [[-0.2909, -0.2909, -0.2909,  ..., -0.2909, -0.2909, -0.2909],\n",
      "          [-0.2909, -0.2909, -0.2909,  ..., -0.2909, -0.2909, -0.2909],\n",
      "          [-0.2909, -0.2909, -0.2909,  ..., -0.2909, -0.2909, -0.2909],\n",
      "          ...,\n",
      "          [-1.1594, -1.1260, -1.0759,  ..., -0.1406, -0.1406, -0.1239],\n",
      "          [-1.1594, -1.1427, -1.0759,  ..., -0.1239, -0.1406, -0.1406],\n",
      "          [-1.1260, -1.0926, -1.0591,  ..., -0.1406, -0.1740, -0.1573]],\n",
      "\n",
      "         [[-0.1874, -0.1874, -0.1874,  ..., -0.1874, -0.1874, -0.1874],\n",
      "          [-0.1874, -0.1874, -0.1874,  ..., -0.1874, -0.1874, -0.1874],\n",
      "          [-0.1874, -0.1874, -0.1874,  ..., -0.1874, -0.1874, -0.1874],\n",
      "          ...,\n",
      "          [-1.0672, -1.0224, -0.9777,  ..., -0.1129, -0.1427, -0.1427],\n",
      "          [-1.0672, -1.0374, -0.9926,  ..., -0.1129, -0.1576, -0.1576],\n",
      "          [-1.0374, -1.0224, -0.9777,  ..., -0.1576, -0.1874, -0.1874]]],\n",
      "\n",
      "\n",
      "        [[[-1.0482, -1.0482, -1.0482,  ..., -1.0482, -1.0482, -1.0482],\n",
      "          [-1.0482, -1.0482, -1.0482,  ..., -1.0482, -1.0482, -1.0482],\n",
      "          [-1.0482, -1.0482, -1.0482,  ..., -1.0482, -1.0482, -1.0482],\n",
      "          ...,\n",
      "          [-1.0482, -1.0482, -1.0482,  ..., -1.0641, -1.0641, -1.0641],\n",
      "          [-1.0482, -1.0482, -1.0482,  ..., -1.0641, -1.0641, -1.0641],\n",
      "          [-1.0482, -1.0482, -1.0482,  ..., -1.0641, -1.0641, -1.0641]],\n",
      "\n",
      "         [[-1.1928, -1.1928, -1.1928,  ..., -1.1928, -1.1928, -1.1928],\n",
      "          [-1.1928, -1.1928, -1.1928,  ..., -1.1928, -1.1928, -1.1928],\n",
      "          [-1.1928, -1.1928, -1.1928,  ..., -1.1928, -1.1928, -1.1928],\n",
      "          ...,\n",
      "          [-1.1260, -1.1260, -1.1260,  ..., -1.1761, -1.1761, -1.1761],\n",
      "          [-1.1260, -1.1260, -1.1260,  ..., -1.1761, -1.1761, -1.1761],\n",
      "          [-1.1260, -1.1260, -1.1260,  ..., -1.1761, -1.1761, -1.1761]],\n",
      "\n",
      "         [[-0.9926, -0.9926, -0.9926,  ..., -0.9926, -0.9926, -0.9926],\n",
      "          [-0.9926, -0.9926, -0.9926,  ..., -0.9926, -0.9926, -0.9926],\n",
      "          [-0.9926, -0.9926, -0.9926,  ..., -0.9926, -0.9926, -0.9926],\n",
      "          ...,\n",
      "          [-0.9777, -0.9777, -0.9777,  ..., -0.9777, -0.9777, -0.9777],\n",
      "          [-0.9777, -0.9777, -0.9777,  ..., -0.9777, -0.9777, -0.9777],\n",
      "          [-0.9777, -0.9777, -0.9777,  ..., -0.9777, -0.9777, -0.9777]]],\n",
      "\n",
      "\n",
      "        [[[-1.4279, -1.3963, -1.3646,  ..., -1.1432, -1.1432, -1.1590],\n",
      "          [-1.3963, -1.3646, -1.3488,  ..., -1.1115, -1.0957, -1.1273],\n",
      "          [-1.3646, -1.3646, -1.3488,  ..., -1.0957, -1.0957, -1.1273],\n",
      "          ...,\n",
      "          [-0.4788, -0.4788, -0.4788,  ..., -0.4788, -0.4788, -0.4788],\n",
      "          [-0.4788, -0.4788, -0.4788,  ..., -0.4788, -0.4788, -0.4788],\n",
      "          [-0.4788, -0.4788, -0.4788,  ..., -0.4788, -0.4788, -0.4788]],\n",
      "\n",
      "         [[-1.2596, -1.2429, -1.2095,  ..., -0.9255, -0.9255, -0.9255],\n",
      "          [-1.2262, -1.2095, -1.1928,  ..., -0.9088, -0.8921, -0.9088],\n",
      "          [-1.2262, -1.2095, -1.1928,  ..., -0.9088, -0.8921, -0.9255],\n",
      "          ...,\n",
      "          [-0.5915, -0.5915, -0.5915,  ..., -0.5915, -0.5915, -0.5915],\n",
      "          [-0.5915, -0.5915, -0.5915,  ..., -0.5915, -0.5915, -0.5915],\n",
      "          [-0.5915, -0.5915, -0.5915,  ..., -0.5915, -0.5915, -0.5915]],\n",
      "\n",
      "         [[-0.9330, -0.9032, -0.8733,  ..., -0.6199, -0.6049, -0.6199],\n",
      "          [-0.9032, -0.8883, -0.8584,  ..., -0.5900, -0.5751, -0.5900],\n",
      "          [-0.8883, -0.8883, -0.8733,  ..., -0.5900, -0.5900, -0.6049],\n",
      "          ...,\n",
      "          [-0.4558, -0.4558, -0.4558,  ..., -0.4558, -0.4558, -0.4558],\n",
      "          [-0.4558, -0.4558, -0.4558,  ..., -0.4558, -0.4558, -0.4558],\n",
      "          [-0.4558, -0.4558, -0.4558,  ..., -0.4558, -0.4558, -0.4558]]],\n",
      "\n",
      "\n",
      "        ...,\n",
      "\n",
      "\n",
      "        [[[-0.9850, -0.9850, -0.9850,  ..., -0.9850, -0.9850, -0.9850],\n",
      "          [-0.9850, -0.9850, -0.9850,  ..., -0.9850, -0.9850, -0.9850],\n",
      "          [-0.9850, -0.9850, -0.9850,  ..., -0.9850, -0.9850, -0.9850],\n",
      "          ...,\n",
      "          [-0.7635, -0.7635, -0.7160,  ..., -1.1432, -1.0957, -1.1273],\n",
      "          [-0.7635, -0.8110, -0.8584,  ..., -1.0641, -1.1273, -1.1748],\n",
      "          [-0.8110, -0.7635, -0.8110,  ..., -1.1273, -1.1432, -1.0799]],\n",
      "\n",
      "         [[-1.1260, -1.1260, -1.1260,  ..., -1.1260, -1.1260, -1.1260],\n",
      "          [-1.1260, -1.1260, -1.1260,  ..., -1.1260, -1.1260, -1.1260],\n",
      "          [-1.1260, -1.1260, -1.1260,  ..., -1.1260, -1.1260, -1.1260],\n",
      "          ...,\n",
      "          [-0.6082, -0.6249, -0.5581,  ..., -1.0257, -0.9756, -1.0090],\n",
      "          [-0.6249, -0.6583, -0.6750,  ..., -0.9422, -1.0090, -1.0591],\n",
      "          [-0.6583, -0.6249, -0.6583,  ..., -1.0090, -1.0257, -0.9589]],\n",
      "\n",
      "         [[-0.9330, -0.9330, -0.9330,  ..., -0.9330, -0.9330, -0.9330],\n",
      "          [-0.9330, -0.9330, -0.9330,  ..., -0.9330, -0.9330, -0.9330],\n",
      "          [-0.9330, -0.9330, -0.9330,  ..., -0.9330, -0.9330, -0.9330],\n",
      "          ...,\n",
      "          [-0.5304, -0.5453, -0.5006,  ..., -0.9628, -0.9181, -0.9479],\n",
      "          [-0.5453, -0.5900, -0.6348,  ..., -0.8883, -0.9479, -1.0075],\n",
      "          [-0.5900, -0.5453, -0.5900,  ..., -0.9479, -0.9628, -0.9032]]],\n",
      "\n",
      "\n",
      "        [[[-1.3014, -1.3014, -1.3014,  ..., -1.2223, -1.2223, -1.2223],\n",
      "          [-1.3014, -1.3014, -1.3014,  ..., -1.2223, -1.2223, -1.2223],\n",
      "          [-1.3014, -1.3014, -1.3014,  ..., -1.2223, -1.2223, -1.2223],\n",
      "          ...,\n",
      "          [-1.3330, -1.3330, -1.3488,  ..., -1.2223, -1.2223, -1.2223],\n",
      "          [-1.3488, -1.3330, -1.3330,  ..., -1.2223, -1.2223, -1.2223],\n",
      "          [-1.3330, -1.3330, -1.3330,  ..., -1.2223, -1.2223, -1.2223]],\n",
      "\n",
      "         [[-1.2429, -1.2429, -1.2429,  ..., -1.3765, -1.3765, -1.3765],\n",
      "          [-1.2429, -1.2429, -1.2429,  ..., -1.3765, -1.3765, -1.3765],\n",
      "          [-1.2429, -1.2429, -1.2429,  ..., -1.3765, -1.3765, -1.3765],\n",
      "          ...,\n",
      "          [-1.3264, -1.3264, -1.3431,  ..., -1.3765, -1.3765, -1.3765],\n",
      "          [-1.3431, -1.3264, -1.3264,  ..., -1.3765, -1.3765, -1.3765],\n",
      "          [-1.3264, -1.3264, -1.3264,  ..., -1.3765, -1.3765, -1.3765]],\n",
      "\n",
      "         [[-1.1716, -1.1716, -1.1716,  ..., -1.1566, -1.1566, -1.1566],\n",
      "          [-1.1716, -1.1716, -1.1716,  ..., -1.1566, -1.1566, -1.1566],\n",
      "          [-1.1716, -1.1716, -1.1716,  ..., -1.1566, -1.1566, -1.1566],\n",
      "          ...,\n",
      "          [-1.2163, -1.2163, -1.2163,  ..., -1.1566, -1.1566, -1.1566],\n",
      "          [-1.2163, -1.2163, -1.2163,  ..., -1.1566, -1.1566, -1.1566],\n",
      "          [-1.2163, -1.2163, -1.2163,  ..., -1.1566, -1.1566, -1.1566]]],\n",
      "\n",
      "\n",
      "        [[[ 0.1065,  0.1065,  0.1065,  ...,  0.2489,  0.2489,  0.2489],\n",
      "          [ 0.1065,  0.1065,  0.1065,  ...,  0.2489,  0.2489,  0.2489],\n",
      "          [ 0.1065,  0.1065,  0.1065,  ...,  0.2489,  0.2489,  0.2489],\n",
      "          ...,\n",
      "          [ 0.1856,  0.1698,  0.1698,  ...,  0.2489,  0.2489,  0.2489],\n",
      "          [ 0.1856,  0.1856,  0.1698,  ...,  0.2489,  0.2489,  0.2489],\n",
      "          [ 0.1856,  0.1856,  0.1856,  ...,  0.2489,  0.2489,  0.2489]],\n",
      "\n",
      "         [[ 0.2269,  0.2269,  0.2269,  ...,  0.1768,  0.1768,  0.1768],\n",
      "          [ 0.2269,  0.2269,  0.2269,  ...,  0.1768,  0.1768,  0.1768],\n",
      "          [ 0.2269,  0.2269,  0.2269,  ...,  0.1768,  0.1768,  0.1768],\n",
      "          ...,\n",
      "          [ 0.3271,  0.3438,  0.3438,  ...,  0.1768,  0.1768,  0.1768],\n",
      "          [ 0.3271,  0.3271,  0.3438,  ...,  0.1768,  0.1768,  0.1768],\n",
      "          [ 0.3271,  0.3271,  0.3271,  ...,  0.1768,  0.1768,  0.1768]],\n",
      "\n",
      "         [[ 0.1406,  0.1406,  0.1406,  ...,  0.2301,  0.2301,  0.2301],\n",
      "          [ 0.1406,  0.1406,  0.1406,  ...,  0.2301,  0.2301,  0.2301],\n",
      "          [ 0.1406,  0.1406,  0.1406,  ...,  0.2301,  0.2301,  0.2301],\n",
      "          ...,\n",
      "          [ 0.2301,  0.2301,  0.2301,  ...,  0.2301,  0.2301,  0.2301],\n",
      "          [ 0.2301,  0.2301,  0.2301,  ...,  0.2301,  0.2301,  0.2301],\n",
      "          [ 0.2301,  0.2301,  0.2301,  ...,  0.2301,  0.2301,  0.2301]]]])\n",
      "tensor([ 24,  28,  21,   0,  18,  52, 109, 171,  61,  66,  43,   1,   6,  20,\n",
      "          4,  49,  48,  50,  19, 155,  31,  62,  66,  48,  36,  92, 116, 118,\n",
      "         83, 160, 148, 155, 145,  74,  88, 148,  39, 108, 169, 106, 149,  82,\n",
      "         32, 102,  59,   9,   1,  24,  87,  76, 162,  24, 135,  31,  16,  64,\n",
      "         71, 174, 152, 143,   3, 139,  47,  39,  25,   1,  45,   0,  38, 129,\n",
      "         99,  62,   1, 156,   4, 140,  95,   1,  38,  91, 136, 153, 117,  23,\n",
      "        102,  70, 121,  72,  87, 133, 172,   8,  82,  54,  18,  48, 116,  72,\n",
      "         19,   9,  22,  61, 156, 119,  21,  81,  75,  37, 134,  86,  45,  14,\n",
      "          5, 158, 165,  55,   2, 116, 114,  36, 148,   7, 131,  79,  47, 118,\n",
      "        103,  21,  55, 131, 128, 100,   4,  62,  78,  51,  75,  96, 134, 170,\n",
      "         38,  62,  29,   7,  26,  48,  98, 170,   8,   2, 135, 100, 109,  90,\n",
      "         82,   3,  51,  41,  65,  68,  37,  40, 114,   2,  11,  72, 118,  66,\n",
      "        106, 142, 142,  24,  64,  46, 122,  72, 104, 172, 106, 124,   4, 163,\n",
      "         38, 149, 151,   1,  18, 112,   5,  87, 130,  66, 158, 126,  29,  42,\n",
      "         63, 126,  86, 136,   0,   0,  23, 125, 161, 136, 173,  65,  86,   1,\n",
      "         72,  40,  56,  40, 109,  25,  60,   5,  60,  41,  87, 118,  55,  42,\n",
      "         98,   2,  17,   2, 123,  63, 154,   2, 112,  46, 124, 139,  24,  31,\n",
      "         54, 173, 137,  82,  34,   9, 108,   2, 159,  65, 131,  44,  13, 100,\n",
      "         17,  70,   4,   9])\n"
     ]
    }
   ],
   "source": [
    "for i, (X, y) in enumerate(train_iter):\n",
    "    print(X)\n",
    "    print(y)\n",
    "    break"
   ],
   "metadata": {
    "collapsed": false,
    "ExecuteTime": {
     "end_time": "2024-01-24T08:05:07.975690900Z",
     "start_time": "2024-01-24T08:05:05.369495500Z"
    }
   },
   "id": "d355c1aadb9366c2"
  },
  {
   "cell_type": "markdown",
   "source": [
    "# 开始训练（使用预训练模型）"
   ],
   "metadata": {
    "collapsed": false
   },
   "id": "ed30c13f57e9b3c8"
  },
  {
   "cell_type": "code",
   "execution_count": 12,
   "outputs": [
    {
     "name": "stderr",
     "output_type": "stream",
     "text": [
      "/home/ly/miniconda3/envs/shiwei/lib/python3.8/site-packages/torchvision/models/_utils.py:208: UserWarning: The parameter 'pretrained' is deprecated since 0.13 and may be removed in the future, please use 'weights' instead.\n",
      "  warnings.warn(\n",
      "/home/ly/miniconda3/envs/shiwei/lib/python3.8/site-packages/torchvision/models/_utils.py:223: UserWarning: Arguments other than a weight enum or `None` for 'weights' are deprecated since 0.13 and may be removed in the future. The current behavior is equivalent to passing `weights=ResNet34_Weights.IMAGENET1K_V1`. You can also use `weights=ResNet34_Weights.DEFAULT` to get the most up-to-date weights.\n",
      "  warnings.warn(msg)\n"
     ]
    },
    {
     "data": {
      "text/plain": "Parameter containing:\ntensor([[ 0.0458,  0.0381, -0.0648,  ..., -0.0507, -0.0475,  0.0467],\n        [-0.0235, -0.0662, -0.0788,  ..., -0.0383,  0.0039,  0.0771],\n        [ 0.0641, -0.0138,  0.0377,  ...,  0.0125, -0.0631,  0.0397],\n        ...,\n        [-0.0086, -0.0878, -0.0711,  ...,  0.0090, -0.0447,  0.0536],\n        [ 0.0749,  0.0355,  0.0493,  ..., -0.0386,  0.0483,  0.0085],\n        [ 0.0575, -0.0565, -0.0604,  ...,  0.0609, -0.0327, -0.0230]],\n       device='cuda:0', requires_grad=True)"
     },
     "execution_count": 12,
     "metadata": {},
     "output_type": "execute_result"
    }
   ],
   "source": [
    "finetune_net = torchvision.models.resnet34(pretrained=True).cuda()\n",
    "finetune_net.fc = nn.Linear(finetune_net.fc.in_features, 176).cuda()\n",
    "nn.init.xavier_uniform_(finetune_net.fc.weight)"
   ],
   "metadata": {
    "collapsed": false,
    "ExecuteTime": {
     "end_time": "2024-01-24T08:05:08.728109900Z",
     "start_time": "2024-01-24T08:05:08.025272600Z"
    }
   },
   "id": "244f547aa1b25378"
  },
  {
   "cell_type": "code",
   "execution_count": 13,
   "outputs": [],
   "source": [
    "class EarlyStopping:\n",
    "    def __init__(self, patience=7, min_delta=0, threshold=0.95):\n",
    "        \"\"\"定义一个提前停止类：这个类将跟踪验证准确度，并在该损失在一定数量的epoch内没有改善时停止训练。\n",
    "        patience: 在这么多epoch后停止训练，默认值为7\n",
    "        min_delta: 改善的最小阈值，默认值为0\n",
    "        threshold: 训练停止前，验证集准确率必须超过的阈值。默认值为0.95\n",
    "        \"\"\"\n",
    "        self.patience = patience\n",
    "        self.min_delta = min_delta\n",
    "        self.threshold = threshold\n",
    "        self.counter = 0\n",
    "        self.best_score = None\n",
    "        self.early_stop = False\n",
    "\n",
    "    def __call__(self, val_accuracy):\n",
    "        score = val_accuracy\n",
    "        \n",
    "        if self.best_score is None:\n",
    "            self.best_score = score\n",
    "        elif score < self.best_score + self.min_delta:\n",
    "            self.counter += 1\n",
    "            print(f'早停计数器：{self.counter}，总计 {self.patience}')\n",
    "            if self.counter >= self.patience and score >= self.threshold:\n",
    "                self.early_stop = True\n",
    "        else:\n",
    "            self.best_score = score\n",
    "            self.counter = 0"
   ],
   "metadata": {
    "collapsed": false,
    "ExecuteTime": {
     "end_time": "2024-01-24T08:05:08.737320800Z",
     "start_time": "2024-01-24T08:05:08.729108Z"
    }
   },
   "id": "c0f7c52d4fa174b6"
  },
  {
   "cell_type": "code",
   "execution_count": 14,
   "outputs": [],
   "source": [
    "def train_fine_tuning(net, train_iter, test_iter, learning_rate, num_epochs, param_group=True):\n",
    "    \"\"\"用GPU训练预训练，模型使用AdamW，损失函数是交叉熵，学习率为固定学习率，采用多GPU设置模型(能用尽用)，使用早停函数\n",
    "    对于fc层使用单独的学习率，此处未进行权重初始化是因为在进入此函数封装之前，会对fc层进行单独权重初始化\n",
    "    \"\"\"\n",
    "    \n",
    "    '''设置损失函数'''\n",
    "    loss = nn.CrossEntropyLoss()# 如果后面是l.backward，此处什么都不写，如果后面是l.sum.backward，此处加入reduction=‘None’\n",
    "    \n",
    "    '''设置分类层与特征提取层不一样的学习率优化器'''\n",
    "    # 如果param_group=True，输出层中的模型参数将使用十倍的学习率，其他层学习率保持低学习率\n",
    "    if param_group:\n",
    "        params_1x = [param for name, param in net.named_parameters() if name not in [\"fc.weight\", \"fc.bias\"]]\n",
    "        optimizer = torch.optim.AdamW([{'params': params_1x},{'params': net.fc.parameters(),'lr': learning_rate * 10}],lr=learning_rate, weight_decay=0.001)\n",
    "    else:\n",
    "        optimizer = torch.optim.AdamW(net.parameters(), lr=learning_rate,weight_decay=0.001)\n",
    "   \n",
    "    '''设置动图生成函数以及计数器'''\n",
    "    animator = d2l.Animator(xlabel='epoch', xlim=[1, num_epochs],\n",
    "                            legend=['train loss', 'train acc', 'test acc'],ylim=[0,1])# 动图生成函数，包括训练损失，训练平均精确度，测试平均精确度\n",
    "    timer= d2l.Timer()\n",
    "    \n",
    "    '''设置多个GPU并行计算，模型的参数会在一个主GPU（这里是 devices[0]）上进行合并和更新\n",
    "    每次训练迭代后，来自所有GPU的梯度会被汇总到这个主GPU上，并更新模型的参数。'''\n",
    "    devices = [torch.device(f'cuda:{i}') for i in range(torch.cuda.device_count())]\n",
    "    net = nn.DataParallel(net, device_ids=devices).to(devices[0])\n",
    "    \n",
    "    '''初始化早停''' \n",
    "    early_stopping = EarlyStopping(patience=5, min_delta=0.001, threshold=0.90)\n",
    "    \n",
    "    '''训练过程'''\n",
    "    for epoch in range(num_epochs):\n",
    "        metric = d2l.Accumulator(4)# 训练损失之和，训练准确率之和，样本数，预测数\n",
    "        # 如果最后一个批次的大小小于其他批次，样本数量会少于预测数量。通过分别跟踪这两个数量，可以更准确地计算损失和准确率等度量指标，从而对模型的性能做出更准确的评估。\n",
    "        for i, (X, y) in enumerate(train_iter):\n",
    "            timer.start()\n",
    "            if isinstance(X, list):\n",
    "                X = [x.to(devices[0]) for x in X]\n",
    "            else:\n",
    "                X = X.to(devices[0])\n",
    "            y = y.to(devices[0])\n",
    "            net.train()\n",
    "            optimizer.zero_grad()\n",
    "            y_hat= net(X)\n",
    "            l = loss(y_hat, y)\n",
    "            l.backward()\n",
    "            optimizer.step()\n",
    "            with torch.no_grad():\n",
    "                metric.add(l * y.shape[0], d2l.accuracy(y_hat, y), y.shape[0], y.numel())\n",
    "                #此处X.shape[0]与y.shape[0]效果一样，均是样本数\n",
    "            timer.stop()\n",
    "            if (i + 1) % (len(train_iter) // 5) == 0 or i == len(train_iter) - 1:\n",
    "                animator.add(epoch + (i + 1) / len(train_iter), (metric[0] / metric[2], metric[1] / metric[3], None))\n",
    "                # 此处是为了显示图像更方便，拆分等分显示图片\n",
    "        test_acc = d2l.evaluate_accuracy_gpu(net, test_iter)\n",
    "        animator.add(epoch + 1, (None, None, test_acc))\n",
    "        \n",
    "        # 更新早停的状态\n",
    "        early_stopping(test_acc)\n",
    "        if early_stopping.early_stop:\n",
    "            print(\"早停触发\")\n",
    "            break\n",
    "            \n",
    "    print(f'loss {metric[0] / metric[2]:.3f}, 训练精度{metric[1] / metric[3]:.3f}, 测试精度{test_acc:.3f}')\n",
    "    print(f'{metric[2] * num_epochs / timer.sum():.1f} examples/sec,平均批次时间 {timer.sum() / num_epochs:.3f} sec',f'在{str(devices)}')"
   ],
   "metadata": {
    "collapsed": false,
    "ExecuteTime": {
     "end_time": "2024-01-24T08:05:08.805752400Z",
     "start_time": "2024-01-24T08:05:08.780788700Z"
    }
   },
   "id": "c3bc5f660d019152"
  },
  {
   "cell_type": "code",
   "execution_count": 15,
   "outputs": [
    {
     "name": "stdout",
     "output_type": "stream",
     "text": [
      "早停计数器：3，总计 5\n",
      "loss 0.246, 训练精度0.915, 测试精度0.849\n",
      "939.2 examples/sec,平均批次时间 15.632 sec 在[device(type='cuda', index=0), device(type='cuda', index=1)]\n"
     ]
    },
    {
     "data": {
      "text/plain": "<Figure size 350x250 with 1 Axes>",
      "image/svg+xml": "<?xml version=\"1.0\" encoding=\"utf-8\" standalone=\"no\"?>\n<!DOCTYPE svg PUBLIC \"-//W3C//DTD SVG 1.1//EN\"\n  \"http://www.w3.org/Graphics/SVG/1.1/DTD/svg11.dtd\">\n<svg xmlns:xlink=\"http://www.w3.org/1999/xlink\" width=\"238.965625pt\" height=\"187.155469pt\" viewBox=\"0 0 238.965625 187.155469\" xmlns=\"http://www.w3.org/2000/svg\" version=\"1.1\">\n <metadata>\n  <rdf:RDF xmlns:dc=\"http://purl.org/dc/elements/1.1/\" xmlns:cc=\"http://creativecommons.org/ns#\" xmlns:rdf=\"http://www.w3.org/1999/02/22-rdf-syntax-ns#\">\n   <cc:Work>\n    <dc:type rdf:resource=\"http://purl.org/dc/dcmitype/StillImage\"/>\n    <dc:date>2024-01-24T16:26:22.080680</dc:date>\n    <dc:format>image/svg+xml</dc:format>\n    <dc:creator>\n     <cc:Agent>\n      <dc:title>Matplotlib v3.7.2, https://matplotlib.org/</dc:title>\n     </cc:Agent>\n    </dc:creator>\n   </cc:Work>\n  </rdf:RDF>\n </metadata>\n <defs>\n  <style type=\"text/css\">*{stroke-linejoin: round; stroke-linecap: butt}</style>\n </defs>\n <g id=\"figure_1\">\n  <g id=\"patch_1\">\n   <path d=\"M 0 187.155469 \nL 238.965625 187.155469 \nL 238.965625 0 \nL 0 0 \nz\n\" style=\"fill: #ffffff\"/>\n  </g>\n  <g id=\"axes_1\">\n   <g id=\"patch_2\">\n    <path d=\"M 30.103125 149.599219 \nL 225.403125 149.599219 \nL 225.403125 10.999219 \nL 30.103125 10.999219 \nz\n\" style=\"fill: #ffffff\"/>\n   </g>\n   <g id=\"matplotlib.axis_1\">\n    <g id=\"xtick_1\">\n     <g id=\"text_1\">\n      <!-- 5 -->\n      <g style=\"fill: #262626\" transform=\"translate(53.859806 164.197656) scale(0.1 -0.1)\">\n       <defs>\n        <path id=\"DejaVuSans-35\" d=\"M 691 4666 \nL 3169 4666 \nL 3169 4134 \nL 1269 4134 \nL 1269 2991 \nQ 1406 3038 1543 3061 \nQ 1681 3084 1819 3084 \nQ 2600 3084 3056 2656 \nQ 3513 2228 3513 1497 \nQ 3513 744 3044 326 \nQ 2575 -91 1722 -91 \nQ 1428 -91 1123 -41 \nQ 819 9 494 109 \nL 494 744 \nQ 775 591 1075 516 \nQ 1375 441 1709 441 \nQ 2250 441 2565 725 \nQ 2881 1009 2881 1497 \nQ 2881 1984 2565 2268 \nQ 2250 2553 1709 2553 \nQ 1456 2553 1204 2497 \nQ 953 2441 691 2322 \nL 691 4666 \nz\n\" transform=\"scale(0.015625)\"/>\n       </defs>\n       <use xlink:href=\"#DejaVuSans-35\"/>\n      </g>\n     </g>\n    </g>\n    <g id=\"xtick_2\">\n     <g id=\"text_2\">\n      <!-- 10 -->\n      <g style=\"fill: #262626\" transform=\"translate(84.35097 164.197656) scale(0.1 -0.1)\">\n       <defs>\n        <path id=\"DejaVuSans-31\" d=\"M 794 531 \nL 1825 531 \nL 1825 4091 \nL 703 3866 \nL 703 4441 \nL 1819 4666 \nL 2450 4666 \nL 2450 531 \nL 3481 531 \nL 3481 0 \nL 794 0 \nL 794 531 \nz\n\" transform=\"scale(0.015625)\"/>\n        <path id=\"DejaVuSans-30\" d=\"M 2034 4250 \nQ 1547 4250 1301 3770 \nQ 1056 3291 1056 2328 \nQ 1056 1369 1301 889 \nQ 1547 409 2034 409 \nQ 2525 409 2770 889 \nQ 3016 1369 3016 2328 \nQ 3016 3291 2770 3770 \nQ 2525 4250 2034 4250 \nz\nM 2034 4750 \nQ 2819 4750 3233 4129 \nQ 3647 3509 3647 2328 \nQ 3647 1150 3233 529 \nQ 2819 -91 2034 -91 \nQ 1250 -91 836 529 \nQ 422 1150 422 2328 \nQ 422 3509 836 4129 \nQ 1250 4750 2034 4750 \nz\n\" transform=\"scale(0.015625)\"/>\n       </defs>\n       <use xlink:href=\"#DejaVuSans-31\"/>\n       <use xlink:href=\"#DejaVuSans-30\" x=\"63.623047\"/>\n      </g>\n     </g>\n    </g>\n    <g id=\"xtick_3\">\n     <g id=\"text_3\">\n      <!-- 15 -->\n      <g style=\"fill: #262626\" transform=\"translate(118.023384 164.197656) scale(0.1 -0.1)\">\n       <use xlink:href=\"#DejaVuSans-31\"/>\n       <use xlink:href=\"#DejaVuSans-35\" x=\"63.623047\"/>\n      </g>\n     </g>\n    </g>\n    <g id=\"xtick_4\">\n     <g id=\"text_4\">\n      <!-- 20 -->\n      <g style=\"fill: #262626\" transform=\"translate(151.695797 164.197656) scale(0.1 -0.1)\">\n       <defs>\n        <path id=\"DejaVuSans-32\" d=\"M 1228 531 \nL 3431 531 \nL 3431 0 \nL 469 0 \nL 469 531 \nQ 828 903 1448 1529 \nQ 2069 2156 2228 2338 \nQ 2531 2678 2651 2914 \nQ 2772 3150 2772 3378 \nQ 2772 3750 2511 3984 \nQ 2250 4219 1831 4219 \nQ 1534 4219 1204 4116 \nQ 875 4013 500 3803 \nL 500 4441 \nQ 881 4594 1212 4672 \nQ 1544 4750 1819 4750 \nQ 2544 4750 2975 4387 \nQ 3406 4025 3406 3419 \nQ 3406 3131 3298 2873 \nQ 3191 2616 2906 2266 \nQ 2828 2175 2409 1742 \nQ 1991 1309 1228 531 \nz\n\" transform=\"scale(0.015625)\"/>\n       </defs>\n       <use xlink:href=\"#DejaVuSans-32\"/>\n       <use xlink:href=\"#DejaVuSans-30\" x=\"63.623047\"/>\n      </g>\n     </g>\n    </g>\n    <g id=\"xtick_5\">\n     <g id=\"text_5\">\n      <!-- 25 -->\n      <g style=\"fill: #262626\" transform=\"translate(185.368211 164.197656) scale(0.1 -0.1)\">\n       <use xlink:href=\"#DejaVuSans-32\"/>\n       <use xlink:href=\"#DejaVuSans-35\" x=\"63.623047\"/>\n      </g>\n     </g>\n    </g>\n    <g id=\"xtick_6\">\n     <g id=\"text_6\">\n      <!-- 30 -->\n      <g style=\"fill: #262626\" transform=\"translate(219.040625 164.197656) scale(0.1 -0.1)\">\n       <defs>\n        <path id=\"DejaVuSans-33\" d=\"M 2597 2516 \nQ 3050 2419 3304 2112 \nQ 3559 1806 3559 1356 \nQ 3559 666 3084 287 \nQ 2609 -91 1734 -91 \nQ 1441 -91 1130 -33 \nQ 819 25 488 141 \nL 488 750 \nQ 750 597 1062 519 \nQ 1375 441 1716 441 \nQ 2309 441 2620 675 \nQ 2931 909 2931 1356 \nQ 2931 1769 2642 2001 \nQ 2353 2234 1838 2234 \nL 1294 2234 \nL 1294 2753 \nL 1863 2753 \nQ 2328 2753 2575 2939 \nQ 2822 3125 2822 3475 \nQ 2822 3834 2567 4026 \nQ 2313 4219 1838 4219 \nQ 1578 4219 1281 4162 \nQ 984 4106 628 3988 \nL 628 4550 \nQ 988 4650 1302 4700 \nQ 1616 4750 1894 4750 \nQ 2613 4750 3031 4423 \nQ 3450 4097 3450 3541 \nQ 3450 3153 3228 2886 \nQ 3006 2619 2597 2516 \nz\n\" transform=\"scale(0.015625)\"/>\n       </defs>\n       <use xlink:href=\"#DejaVuSans-33\"/>\n       <use xlink:href=\"#DejaVuSans-30\" x=\"63.623047\"/>\n      </g>\n     </g>\n    </g>\n    <g id=\"text_7\">\n     <!-- epoch -->\n     <g style=\"fill: #262626\" transform=\"translate(112.525 177.875781) scale(0.1 -0.1)\">\n      <defs>\n       <path id=\"DejaVuSans-65\" d=\"M 3597 1894 \nL 3597 1613 \nL 953 1613 \nQ 991 1019 1311 708 \nQ 1631 397 2203 397 \nQ 2534 397 2845 478 \nQ 3156 559 3463 722 \nL 3463 178 \nQ 3153 47 2828 -22 \nQ 2503 -91 2169 -91 \nQ 1331 -91 842 396 \nQ 353 884 353 1716 \nQ 353 2575 817 3079 \nQ 1281 3584 2069 3584 \nQ 2775 3584 3186 3129 \nQ 3597 2675 3597 1894 \nz\nM 3022 2063 \nQ 3016 2534 2758 2815 \nQ 2500 3097 2075 3097 \nQ 1594 3097 1305 2825 \nQ 1016 2553 972 2059 \nL 3022 2063 \nz\n\" transform=\"scale(0.015625)\"/>\n       <path id=\"DejaVuSans-70\" d=\"M 1159 525 \nL 1159 -1331 \nL 581 -1331 \nL 581 3500 \nL 1159 3500 \nL 1159 2969 \nQ 1341 3281 1617 3432 \nQ 1894 3584 2278 3584 \nQ 2916 3584 3314 3078 \nQ 3713 2572 3713 1747 \nQ 3713 922 3314 415 \nQ 2916 -91 2278 -91 \nQ 1894 -91 1617 61 \nQ 1341 213 1159 525 \nz\nM 3116 1747 \nQ 3116 2381 2855 2742 \nQ 2594 3103 2138 3103 \nQ 1681 3103 1420 2742 \nQ 1159 2381 1159 1747 \nQ 1159 1113 1420 752 \nQ 1681 391 2138 391 \nQ 2594 391 2855 752 \nQ 3116 1113 3116 1747 \nz\n\" transform=\"scale(0.015625)\"/>\n       <path id=\"DejaVuSans-6f\" d=\"M 1959 3097 \nQ 1497 3097 1228 2736 \nQ 959 2375 959 1747 \nQ 959 1119 1226 758 \nQ 1494 397 1959 397 \nQ 2419 397 2687 759 \nQ 2956 1122 2956 1747 \nQ 2956 2369 2687 2733 \nQ 2419 3097 1959 3097 \nz\nM 1959 3584 \nQ 2709 3584 3137 3096 \nQ 3566 2609 3566 1747 \nQ 3566 888 3137 398 \nQ 2709 -91 1959 -91 \nQ 1206 -91 779 398 \nQ 353 888 353 1747 \nQ 353 2609 779 3096 \nQ 1206 3584 1959 3584 \nz\n\" transform=\"scale(0.015625)\"/>\n       <path id=\"DejaVuSans-63\" d=\"M 3122 3366 \nL 3122 2828 \nQ 2878 2963 2633 3030 \nQ 2388 3097 2138 3097 \nQ 1578 3097 1268 2742 \nQ 959 2388 959 1747 \nQ 959 1106 1268 751 \nQ 1578 397 2138 397 \nQ 2388 397 2633 464 \nQ 2878 531 3122 666 \nL 3122 134 \nQ 2881 22 2623 -34 \nQ 2366 -91 2075 -91 \nQ 1284 -91 818 406 \nQ 353 903 353 1747 \nQ 353 2603 823 3093 \nQ 1294 3584 2113 3584 \nQ 2378 3584 2631 3529 \nQ 2884 3475 3122 3366 \nz\n\" transform=\"scale(0.015625)\"/>\n       <path id=\"DejaVuSans-68\" d=\"M 3513 2113 \nL 3513 0 \nL 2938 0 \nL 2938 2094 \nQ 2938 2591 2744 2837 \nQ 2550 3084 2163 3084 \nQ 1697 3084 1428 2787 \nQ 1159 2491 1159 1978 \nL 1159 0 \nL 581 0 \nL 581 4863 \nL 1159 4863 \nL 1159 2956 \nQ 1366 3272 1645 3428 \nQ 1925 3584 2291 3584 \nQ 2894 3584 3203 3211 \nQ 3513 2838 3513 2113 \nz\n\" transform=\"scale(0.015625)\"/>\n      </defs>\n      <use xlink:href=\"#DejaVuSans-65\"/>\n      <use xlink:href=\"#DejaVuSans-70\" x=\"61.523438\"/>\n      <use xlink:href=\"#DejaVuSans-6f\" x=\"125\"/>\n      <use xlink:href=\"#DejaVuSans-63\" x=\"186.181641\"/>\n      <use xlink:href=\"#DejaVuSans-68\" x=\"241.162109\"/>\n     </g>\n    </g>\n   </g>\n   <g id=\"matplotlib.axis_2\">\n    <g id=\"ytick_1\">\n     <g id=\"text_8\">\n      <!-- 0.0 -->\n      <g style=\"fill: #262626\" transform=\"translate(7.2 153.398438) scale(0.1 -0.1)\">\n       <defs>\n        <path id=\"DejaVuSans-2e\" d=\"M 684 794 \nL 1344 794 \nL 1344 0 \nL 684 0 \nL 684 794 \nz\n\" transform=\"scale(0.015625)\"/>\n       </defs>\n       <use xlink:href=\"#DejaVuSans-30\"/>\n       <use xlink:href=\"#DejaVuSans-2e\" x=\"63.623047\"/>\n       <use xlink:href=\"#DejaVuSans-30\" x=\"95.410156\"/>\n      </g>\n     </g>\n    </g>\n    <g id=\"ytick_2\">\n     <g id=\"text_9\">\n      <!-- 0.2 -->\n      <g style=\"fill: #262626\" transform=\"translate(7.2 125.678438) scale(0.1 -0.1)\">\n       <use xlink:href=\"#DejaVuSans-30\"/>\n       <use xlink:href=\"#DejaVuSans-2e\" x=\"63.623047\"/>\n       <use xlink:href=\"#DejaVuSans-32\" x=\"95.410156\"/>\n      </g>\n     </g>\n    </g>\n    <g id=\"ytick_3\">\n     <g id=\"text_10\">\n      <!-- 0.4 -->\n      <g style=\"fill: #262626\" transform=\"translate(7.2 97.958438) scale(0.1 -0.1)\">\n       <defs>\n        <path id=\"DejaVuSans-34\" d=\"M 2419 4116 \nL 825 1625 \nL 2419 1625 \nL 2419 4116 \nz\nM 2253 4666 \nL 3047 4666 \nL 3047 1625 \nL 3713 1625 \nL 3713 1100 \nL 3047 1100 \nL 3047 0 \nL 2419 0 \nL 2419 1100 \nL 313 1100 \nL 313 1709 \nL 2253 4666 \nz\n\" transform=\"scale(0.015625)\"/>\n       </defs>\n       <use xlink:href=\"#DejaVuSans-30\"/>\n       <use xlink:href=\"#DejaVuSans-2e\" x=\"63.623047\"/>\n       <use xlink:href=\"#DejaVuSans-34\" x=\"95.410156\"/>\n      </g>\n     </g>\n    </g>\n    <g id=\"ytick_4\">\n     <g id=\"text_11\">\n      <!-- 0.6 -->\n      <g style=\"fill: #262626\" transform=\"translate(7.2 70.238437) scale(0.1 -0.1)\">\n       <defs>\n        <path id=\"DejaVuSans-36\" d=\"M 2113 2584 \nQ 1688 2584 1439 2293 \nQ 1191 2003 1191 1497 \nQ 1191 994 1439 701 \nQ 1688 409 2113 409 \nQ 2538 409 2786 701 \nQ 3034 994 3034 1497 \nQ 3034 2003 2786 2293 \nQ 2538 2584 2113 2584 \nz\nM 3366 4563 \nL 3366 3988 \nQ 3128 4100 2886 4159 \nQ 2644 4219 2406 4219 \nQ 1781 4219 1451 3797 \nQ 1122 3375 1075 2522 \nQ 1259 2794 1537 2939 \nQ 1816 3084 2150 3084 \nQ 2853 3084 3261 2657 \nQ 3669 2231 3669 1497 \nQ 3669 778 3244 343 \nQ 2819 -91 2113 -91 \nQ 1303 -91 875 529 \nQ 447 1150 447 2328 \nQ 447 3434 972 4092 \nQ 1497 4750 2381 4750 \nQ 2619 4750 2861 4703 \nQ 3103 4656 3366 4563 \nz\n\" transform=\"scale(0.015625)\"/>\n       </defs>\n       <use xlink:href=\"#DejaVuSans-30\"/>\n       <use xlink:href=\"#DejaVuSans-2e\" x=\"63.623047\"/>\n       <use xlink:href=\"#DejaVuSans-36\" x=\"95.410156\"/>\n      </g>\n     </g>\n    </g>\n    <g id=\"ytick_5\">\n     <g id=\"text_12\">\n      <!-- 0.8 -->\n      <g style=\"fill: #262626\" transform=\"translate(7.2 42.518438) scale(0.1 -0.1)\">\n       <defs>\n        <path id=\"DejaVuSans-38\" d=\"M 2034 2216 \nQ 1584 2216 1326 1975 \nQ 1069 1734 1069 1313 \nQ 1069 891 1326 650 \nQ 1584 409 2034 409 \nQ 2484 409 2743 651 \nQ 3003 894 3003 1313 \nQ 3003 1734 2745 1975 \nQ 2488 2216 2034 2216 \nz\nM 1403 2484 \nQ 997 2584 770 2862 \nQ 544 3141 544 3541 \nQ 544 4100 942 4425 \nQ 1341 4750 2034 4750 \nQ 2731 4750 3128 4425 \nQ 3525 4100 3525 3541 \nQ 3525 3141 3298 2862 \nQ 3072 2584 2669 2484 \nQ 3125 2378 3379 2068 \nQ 3634 1759 3634 1313 \nQ 3634 634 3220 271 \nQ 2806 -91 2034 -91 \nQ 1263 -91 848 271 \nQ 434 634 434 1313 \nQ 434 1759 690 2068 \nQ 947 2378 1403 2484 \nz\nM 1172 3481 \nQ 1172 3119 1398 2916 \nQ 1625 2713 2034 2713 \nQ 2441 2713 2670 2916 \nQ 2900 3119 2900 3481 \nQ 2900 3844 2670 4047 \nQ 2441 4250 2034 4250 \nQ 1625 4250 1398 4047 \nQ 1172 3844 1172 3481 \nz\n\" transform=\"scale(0.015625)\"/>\n       </defs>\n       <use xlink:href=\"#DejaVuSans-30\"/>\n       <use xlink:href=\"#DejaVuSans-2e\" x=\"63.623047\"/>\n       <use xlink:href=\"#DejaVuSans-38\" x=\"95.410156\"/>\n      </g>\n     </g>\n    </g>\n    <g id=\"ytick_6\">\n     <g id=\"text_13\">\n      <!-- 1.0 -->\n      <g style=\"fill: #262626\" transform=\"translate(7.2 14.798438) scale(0.1 -0.1)\">\n       <use xlink:href=\"#DejaVuSans-31\"/>\n       <use xlink:href=\"#DejaVuSans-2e\" x=\"63.623047\"/>\n       <use xlink:href=\"#DejaVuSans-30\" x=\"95.410156\"/>\n      </g>\n     </g>\n    </g>\n   </g>\n   <g id=\"line2d_1\">\n    <path d=\"M 66.0669 -1 \nL 66.329998 -0.266208 \nL 67.607227 -0.705421 \nL 68.884457 3.616874 \nL 70.510022 6.347216 \nL 71.787251 23.475672 \nL 73.064481 23.019254 \nL 74.34171 24.411469 \nL 75.61894 25.635757 \nL 77.244504 27.557206 \nL 78.521734 39.072863 \nL 79.798963 38.673507 \nL 81.076193 36.758227 \nL 82.353422 36.081624 \nL 83.630652 36.087684 \nL 83.978987 36.287575 \nL 85.256217 50.794223 \nL 86.533446 54.040507 \nL 87.810676 53.645789 \nL 89.087905 53.128789 \nL 90.365135 53.102348 \nL 90.71347 52.815919 \nL 91.990699 59.867067 \nL 93.267929 63.295362 \nL 94.545158 62.296415 \nL 95.822388 62.477557 \nL 97.099617 63.229518 \nL 97.447953 62.872293 \nL 98.725182 52.268064 \nL 100.002412 57.13172 \nL 101.279641 59.745375 \nL 102.556871 61.632587 \nL 104.182435 63.067511 \nL 105.459665 72.389108 \nL 106.736894 70.468501 \nL 108.014124 69.87957 \nL 109.291353 71.093745 \nL 110.916918 73.095853 \nL 112.194148 75.833479 \nL 113.471377 75.752286 \nL 114.748607 78.909608 \nL 116.025836 80.541901 \nL 117.303066 81.697508 \nL 117.651401 81.77527 \nL 118.92863 88.222483 \nL 120.20586 90.519036 \nL 121.483089 90.495862 \nL 122.760319 90.910736 \nL 124.037548 89.816919 \nL 124.385884 90.192456 \nL 125.663113 91.321066 \nL 126.940343 92.191153 \nL 128.217572 91.339485 \nL 129.494802 90.878272 \nL 131.120366 91.04996 \nL 132.397596 92.863229 \nL 133.674825 94.280771 \nL 134.952055 93.45643 \nL 136.229284 93.471813 \nL 137.506514 94.846203 \nL 137.854849 94.945544 \nL 139.132079 96.851239 \nL 140.409308 99.535898 \nL 141.686538 101.433762 \nL 142.963767 101.846401 \nL 144.589332 100.976792 \nL 145.866561 98.334641 \nL 147.143791 99.850799 \nL 148.42102 99.927969 \nL 149.69825 100.673561 \nL 151.323815 100.869005 \nL 152.601044 93.966684 \nL 153.878274 95.256955 \nL 155.155503 97.252552 \nL 156.432733 99.792021 \nL 157.709962 100.985513 \nL 158.058297 101.077936 \nL 159.335527 103.720927 \nL 160.612756 101.163842 \nL 161.889986 102.250284 \nL 163.167215 102.614963 \nL 164.444445 103.367021 \nL 164.79278 103.18788 \nL 166.07001 107.185125 \nL 167.347239 108.343766 \nL 168.624469 108.613463 \nL 169.901698 108.109444 \nL 171.178928 108.764462 \nL 171.527263 108.809104 \nL 172.804492 111.895007 \nL 175.358951 112.129016 \nL 176.636181 112.645175 \nL 178.261746 113.006181 \nL 179.538975 113.118662 \nL 180.816205 112.196725 \nL 183.370664 112.855549 \nL 184.647893 112.495202 \nL 184.996228 112.724283 \nL 186.273458 116.520285 \nL 188.827917 117.650555 \nL 190.105146 116.958239 \nL 191.730711 117.441789 \nL 193.007941 118.089404 \nL 194.28517 118.914675 \nL 195.5624 118.091274 \nL 196.839629 117.950373 \nL 198.465194 117.562329 \nL 199.742423 118.617816 \nL 201.019653 118.799549 \nL 202.296882 117.732285 \nL 203.574112 117.770096 \nL 205.199677 117.055415 \nL 206.476906 114.002243 \nL 207.754136 114.725831 \nL 209.031365 114.998942 \nL 211.585824 115.805347 \nL 211.934159 115.491112 \nL 213.211389 116.042592 \nL 214.488618 117.713761 \nL 217.043077 117.580866 \nL 218.668642 116.572882 \nL 219.945872 112.334834 \nL 221.223101 116.065848 \nL 222.500331 116.019193 \nL 223.77756 116.641286 \nL 225.05479 115.540228 \nL 225.403125 115.548394 \nL 225.403125 115.548394 \n\" clip-path=\"url(#p7852b414bf)\" style=\"fill: none; stroke: #1f77b4; stroke-width: 1.5; stroke-linecap: round\"/>\n   </g>\n   <g id=\"line2d_2\">\n    <path d=\"M 24.645872 146.695312 \nL 25.923101 146.276953 \nL 27.200331 146.252344 \nL 28.47756 145.944727 \nL 30.103125 145.247318 \nL 31.380354 140.149219 \nL 32.657584 137.269922 \nL 33.934813 135.653906 \nL 35.212043 133.147852 \nL 36.837608 129.727743 \nL 38.114837 112.882031 \nL 39.392067 110.199609 \nL 40.669296 107.189063 \nL 43.572091 102.0304 \nL 44.84932 89.847656 \nL 46.126549 88.444922 \nL 48.681008 87.042188 \nL 50.306573 86.029378 \nL 51.583803 76.263281 \nL 54.138262 74.901563 \nL 55.415491 73.199414 \nL 57.041056 71.774781 \nL 58.318286 65.68125 \nL 59.595515 65.041406 \nL 60.872745 62.908594 \nL 63.427203 62.797031 \nL 63.775539 62.901058 \nL 65.052768 59.282813 \nL 66.329998 59.184375 \nL 67.607227 59.200781 \nL 68.884457 57.461719 \nL 70.510022 56.444008 \nL 71.787251 52.244531 \nL 73.064481 52.023047 \nL 74.34171 51.145313 \nL 75.61894 50.780273 \nL 77.244504 50.034159 \nL 78.521734 46.78125 \nL 79.798963 47.322656 \nL 81.076193 47.683594 \nL 82.353422 47.802539 \nL 83.978987 47.702447 \nL 85.256217 43.729688 \nL 86.533446 42.745313 \nL 87.810676 42.532031 \nL 90.365135 42.440156 \nL 90.71347 42.510375 \nL 91.990699 40.579688 \nL 93.267929 39.201563 \nL 95.822388 39.632227 \nL 97.099617 39.3 \nL 97.447953 39.470653 \nL 98.725182 43.089844 \nL 100.002412 42.179297 \nL 101.279641 40.957031 \nL 104.182435 39.725537 \nL 105.459665 36.740625 \nL 106.736894 37.528125 \nL 108.014124 38.102344 \nL 109.291353 37.392773 \nL 110.916918 36.987899 \nL 112.194148 35.608594 \nL 113.471377 35.534766 \nL 114.748607 34.525781 \nL 116.025836 33.922852 \nL 117.651401 33.674413 \nL 118.92863 31.769531 \nL 120.20586 30.785156 \nL 121.483089 31.211719 \nL 124.385884 31.512623 \nL 125.663113 29.603906 \nL 126.940343 29.751563 \nL 128.217572 30.260156 \nL 129.494802 30.563672 \nL 132.397596 30.686719 \nL 133.674825 30.219141 \nL 136.229284 30.305273 \nL 137.854849 29.681238 \nL 139.132079 29.259375 \nL 140.409308 28.053516 \nL 141.686538 27.438281 \nL 142.963767 27.315234 \nL 144.589332 27.481687 \nL 145.866561 29.505469 \nL 147.143791 28.521094 \nL 148.42102 28.504688 \nL 149.69825 28.287305 \nL 151.323815 28.236898 \nL 152.601044 30.588281 \nL 153.878274 29.45625 \nL 155.155503 28.914844 \nL 156.432733 28.016602 \nL 158.058297 27.462807 \nL 159.335527 27.09375 \nL 160.612756 27.536719 \nL 161.889986 27.4875 \nL 164.79278 27.122962 \nL 166.07001 24.682031 \nL 167.347239 24.977344 \nL 168.624469 24.665625 \nL 169.901698 25.001953 \nL 171.527263 24.857331 \nL 172.804492 24.780469 \nL 174.081722 24.509766 \nL 175.358951 24.419531 \nL 177.91341 24.012656 \nL 178.261746 24.036039 \nL 179.538975 23.500781 \nL 180.816205 23.869922 \nL 182.093434 23.763281 \nL 184.996228 23.884997 \nL 186.273458 22.811719 \nL 188.827917 22.417969 \nL 190.105146 22.55332 \nL 191.730711 22.091372 \nL 193.007941 22.516406 \nL 194.28517 21.532031 \nL 195.5624 21.827344 \nL 198.465194 22.081932 \nL 199.742423 21.778125 \nL 201.019653 21.728906 \nL 202.296882 21.794531 \nL 203.574112 21.704297 \nL 205.199677 21.94033 \nL 206.476906 22.811719 \nL 207.754136 22.565625 \nL 209.031365 22.942969 \nL 213.211389 22.467188 \nL 214.488618 22.098047 \nL 217.043077 22.110352 \nL 218.668642 22.421777 \nL 219.945872 23.402344 \nL 221.223101 22.245703 \nL 222.500331 22.483594 \nL 223.77756 22.405664 \nL 225.403125 22.789942 \nL 225.403125 22.789942 \n\" clip-path=\"url(#p7852b414bf)\" style=\"fill: none; stroke-dasharray: 5.55,2.4; stroke-dashoffset: 0; stroke: #bf00bf; stroke-width: 1.5\"/>\n   </g>\n   <g id=\"line2d_3\">\n    <path d=\"M 30.103125 143.709379 \nL 36.837608 114.902025 \nL 43.572091 104.934604 \nL 50.306573 89.530409 \nL 57.041056 66.763915 \nL 63.775539 64.498592 \nL 70.510022 74.012948 \nL 77.244504 52.379115 \nL 83.978987 54.833215 \nL 90.71347 44.865795 \nL 97.447953 48.075002 \nL 104.182435 42.600472 \nL 110.916918 47.395405 \nL 117.651401 39.089221 \nL 124.385884 35.124907 \nL 131.120366 36.861654 \nL 137.854849 37.201452 \nL 144.589332 38.862689 \nL 151.323815 35.653482 \nL 158.058297 37.579006 \nL 164.79278 38.749423 \nL 171.527263 32.142232 \nL 178.261746 32.859584 \nL 184.996228 35.728993 \nL 191.730711 31.462635 \nL 198.465194 35.162662 \nL 205.199677 29.801398 \nL 211.934159 33.274893 \nL 218.668642 41.052501 \nL 225.403125 31.877944 \n\" clip-path=\"url(#p7852b414bf)\" style=\"fill: none; stroke-dasharray: 9.6,2.4,1.5,2.4; stroke-dashoffset: 0; stroke: #008000; stroke-width: 1.5\"/>\n   </g>\n   <g id=\"patch_3\">\n    <path d=\"M 30.103125 149.599219 \nL 30.103125 10.999219 \n\" style=\"fill: none; stroke: #cccccc; stroke-width: 0.8; stroke-linejoin: miter; stroke-linecap: square\"/>\n   </g>\n   <g id=\"patch_4\">\n    <path d=\"M 225.403125 149.599219 \nL 225.403125 10.999219 \n\" style=\"fill: none; stroke: #cccccc; stroke-width: 0.8; stroke-linejoin: miter; stroke-linecap: square\"/>\n   </g>\n   <g id=\"patch_5\">\n    <path d=\"M 30.103125 149.599219 \nL 225.403125 149.599219 \n\" style=\"fill: none; stroke: #cccccc; stroke-width: 0.8; stroke-linejoin: miter; stroke-linecap: square\"/>\n   </g>\n   <g id=\"patch_6\">\n    <path d=\"M 30.103125 10.999219 \nL 225.403125 10.999219 \n\" style=\"fill: none; stroke: #cccccc; stroke-width: 0.8; stroke-linejoin: miter; stroke-linecap: square\"/>\n   </g>\n   <g id=\"legend_1\">\n    <g id=\"patch_7\">\n     <path d=\"M 37.103125 144.599219 \nL 114.871875 144.599219 \nQ 116.871875 144.599219 116.871875 142.599219 \nL 116.871875 99.564844 \nQ 116.871875 97.564844 114.871875 97.564844 \nL 37.103125 97.564844 \nQ 35.103125 97.564844 35.103125 99.564844 \nL 35.103125 142.599219 \nQ 35.103125 144.599219 37.103125 144.599219 \nz\n\" style=\"fill: #ffffff; opacity: 0.8; stroke: #cccccc; stroke-linejoin: miter\"/>\n    </g>\n    <g id=\"line2d_4\">\n     <path d=\"M 39.103125 105.663281 \nL 49.103125 105.663281 \nL 59.103125 105.663281 \n\" style=\"fill: none; stroke: #1f77b4; stroke-width: 1.5; stroke-linecap: round\"/>\n    </g>\n    <g id=\"text_14\">\n     <!-- train loss -->\n     <g style=\"fill: #262626\" transform=\"translate(67.103125 109.163281) scale(0.1 -0.1)\">\n      <defs>\n       <path id=\"DejaVuSans-74\" d=\"M 1172 4494 \nL 1172 3500 \nL 2356 3500 \nL 2356 3053 \nL 1172 3053 \nL 1172 1153 \nQ 1172 725 1289 603 \nQ 1406 481 1766 481 \nL 2356 481 \nL 2356 0 \nL 1766 0 \nQ 1100 0 847 248 \nQ 594 497 594 1153 \nL 594 3053 \nL 172 3053 \nL 172 3500 \nL 594 3500 \nL 594 4494 \nL 1172 4494 \nz\n\" transform=\"scale(0.015625)\"/>\n       <path id=\"DejaVuSans-72\" d=\"M 2631 2963 \nQ 2534 3019 2420 3045 \nQ 2306 3072 2169 3072 \nQ 1681 3072 1420 2755 \nQ 1159 2438 1159 1844 \nL 1159 0 \nL 581 0 \nL 581 3500 \nL 1159 3500 \nL 1159 2956 \nQ 1341 3275 1631 3429 \nQ 1922 3584 2338 3584 \nQ 2397 3584 2469 3576 \nQ 2541 3569 2628 3553 \nL 2631 2963 \nz\n\" transform=\"scale(0.015625)\"/>\n       <path id=\"DejaVuSans-61\" d=\"M 2194 1759 \nQ 1497 1759 1228 1600 \nQ 959 1441 959 1056 \nQ 959 750 1161 570 \nQ 1363 391 1709 391 \nQ 2188 391 2477 730 \nQ 2766 1069 2766 1631 \nL 2766 1759 \nL 2194 1759 \nz\nM 3341 1997 \nL 3341 0 \nL 2766 0 \nL 2766 531 \nQ 2569 213 2275 61 \nQ 1981 -91 1556 -91 \nQ 1019 -91 701 211 \nQ 384 513 384 1019 \nQ 384 1609 779 1909 \nQ 1175 2209 1959 2209 \nL 2766 2209 \nL 2766 2266 \nQ 2766 2663 2505 2880 \nQ 2244 3097 1772 3097 \nQ 1472 3097 1187 3025 \nQ 903 2953 641 2809 \nL 641 3341 \nQ 956 3463 1253 3523 \nQ 1550 3584 1831 3584 \nQ 2591 3584 2966 3190 \nQ 3341 2797 3341 1997 \nz\n\" transform=\"scale(0.015625)\"/>\n       <path id=\"DejaVuSans-69\" d=\"M 603 3500 \nL 1178 3500 \nL 1178 0 \nL 603 0 \nL 603 3500 \nz\nM 603 4863 \nL 1178 4863 \nL 1178 4134 \nL 603 4134 \nL 603 4863 \nz\n\" transform=\"scale(0.015625)\"/>\n       <path id=\"DejaVuSans-6e\" d=\"M 3513 2113 \nL 3513 0 \nL 2938 0 \nL 2938 2094 \nQ 2938 2591 2744 2837 \nQ 2550 3084 2163 3084 \nQ 1697 3084 1428 2787 \nQ 1159 2491 1159 1978 \nL 1159 0 \nL 581 0 \nL 581 3500 \nL 1159 3500 \nL 1159 2956 \nQ 1366 3272 1645 3428 \nQ 1925 3584 2291 3584 \nQ 2894 3584 3203 3211 \nQ 3513 2838 3513 2113 \nz\n\" transform=\"scale(0.015625)\"/>\n       <path id=\"DejaVuSans-20\" transform=\"scale(0.015625)\"/>\n       <path id=\"DejaVuSans-6c\" d=\"M 603 4863 \nL 1178 4863 \nL 1178 0 \nL 603 0 \nL 603 4863 \nz\n\" transform=\"scale(0.015625)\"/>\n       <path id=\"DejaVuSans-73\" d=\"M 2834 3397 \nL 2834 2853 \nQ 2591 2978 2328 3040 \nQ 2066 3103 1784 3103 \nQ 1356 3103 1142 2972 \nQ 928 2841 928 2578 \nQ 928 2378 1081 2264 \nQ 1234 2150 1697 2047 \nL 1894 2003 \nQ 2506 1872 2764 1633 \nQ 3022 1394 3022 966 \nQ 3022 478 2636 193 \nQ 2250 -91 1575 -91 \nQ 1294 -91 989 -36 \nQ 684 19 347 128 \nL 347 722 \nQ 666 556 975 473 \nQ 1284 391 1588 391 \nQ 1994 391 2212 530 \nQ 2431 669 2431 922 \nQ 2431 1156 2273 1281 \nQ 2116 1406 1581 1522 \nL 1381 1569 \nQ 847 1681 609 1914 \nQ 372 2147 372 2553 \nQ 372 3047 722 3315 \nQ 1072 3584 1716 3584 \nQ 2034 3584 2315 3537 \nQ 2597 3491 2834 3397 \nz\n\" transform=\"scale(0.015625)\"/>\n      </defs>\n      <use xlink:href=\"#DejaVuSans-74\"/>\n      <use xlink:href=\"#DejaVuSans-72\" x=\"39.208984\"/>\n      <use xlink:href=\"#DejaVuSans-61\" x=\"80.322266\"/>\n      <use xlink:href=\"#DejaVuSans-69\" x=\"141.601562\"/>\n      <use xlink:href=\"#DejaVuSans-6e\" x=\"169.384766\"/>\n      <use xlink:href=\"#DejaVuSans-20\" x=\"232.763672\"/>\n      <use xlink:href=\"#DejaVuSans-6c\" x=\"264.550781\"/>\n      <use xlink:href=\"#DejaVuSans-6f\" x=\"292.333984\"/>\n      <use xlink:href=\"#DejaVuSans-73\" x=\"353.515625\"/>\n      <use xlink:href=\"#DejaVuSans-73\" x=\"405.615234\"/>\n     </g>\n    </g>\n    <g id=\"line2d_5\">\n     <path d=\"M 39.103125 120.341406 \nL 49.103125 120.341406 \nL 59.103125 120.341406 \n\" style=\"fill: none; stroke-dasharray: 5.55,2.4; stroke-dashoffset: 0; stroke: #bf00bf; stroke-width: 1.5\"/>\n    </g>\n    <g id=\"text_15\">\n     <!-- train acc -->\n     <g style=\"fill: #262626\" transform=\"translate(67.103125 123.841406) scale(0.1 -0.1)\">\n      <use xlink:href=\"#DejaVuSans-74\"/>\n      <use xlink:href=\"#DejaVuSans-72\" x=\"39.208984\"/>\n      <use xlink:href=\"#DejaVuSans-61\" x=\"80.322266\"/>\n      <use xlink:href=\"#DejaVuSans-69\" x=\"141.601562\"/>\n      <use xlink:href=\"#DejaVuSans-6e\" x=\"169.384766\"/>\n      <use xlink:href=\"#DejaVuSans-20\" x=\"232.763672\"/>\n      <use xlink:href=\"#DejaVuSans-61\" x=\"264.550781\"/>\n      <use xlink:href=\"#DejaVuSans-63\" x=\"325.830078\"/>\n      <use xlink:href=\"#DejaVuSans-63\" x=\"380.810547\"/>\n     </g>\n    </g>\n    <g id=\"line2d_6\">\n     <path d=\"M 39.103125 135.019531 \nL 49.103125 135.019531 \nL 59.103125 135.019531 \n\" style=\"fill: none; stroke-dasharray: 9.6,2.4,1.5,2.4; stroke-dashoffset: 0; stroke: #008000; stroke-width: 1.5\"/>\n    </g>\n    <g id=\"text_16\">\n     <!-- test acc -->\n     <g style=\"fill: #262626\" transform=\"translate(67.103125 138.519531) scale(0.1 -0.1)\">\n      <use xlink:href=\"#DejaVuSans-74\"/>\n      <use xlink:href=\"#DejaVuSans-65\" x=\"39.208984\"/>\n      <use xlink:href=\"#DejaVuSans-73\" x=\"100.732422\"/>\n      <use xlink:href=\"#DejaVuSans-74\" x=\"152.832031\"/>\n      <use xlink:href=\"#DejaVuSans-20\" x=\"192.041016\"/>\n      <use xlink:href=\"#DejaVuSans-61\" x=\"223.828125\"/>\n      <use xlink:href=\"#DejaVuSans-63\" x=\"285.107422\"/>\n      <use xlink:href=\"#DejaVuSans-63\" x=\"340.087891\"/>\n     </g>\n    </g>\n   </g>\n  </g>\n </g>\n <defs>\n  <clipPath id=\"p7852b414bf\">\n   <rect x=\"30.103125\" y=\"10.999219\" width=\"195.3\" height=\"138.6\"/>\n  </clipPath>\n </defs>\n</svg>\n"
     },
     "metadata": {},
     "output_type": "display_data"
    }
   ],
   "source": [
    "train_fine_tuning(finetune_net, train_iter, valid_iter, learning_rate=1e-3, num_epochs=30, param_group=True)"
   ],
   "metadata": {
    "collapsed": false
   },
   "id": "72b8619544daa7c0"
  }
 ],
 "metadata": {
  "kernelspec": {
   "name": "python3",
   "language": "python",
   "display_name": "Python 3 (ipykernel)"
  },
  "language_info": {
   "codemirror_mode": {
    "name": "ipython",
    "version": 2
   },
   "file_extension": ".py",
   "mimetype": "text/x-python",
   "name": "python",
   "nbconvert_exporter": "python",
   "pygments_lexer": "ipython2",
   "version": "2.7.6"
  }
 },
 "nbformat": 4,
 "nbformat_minor": 5
}
