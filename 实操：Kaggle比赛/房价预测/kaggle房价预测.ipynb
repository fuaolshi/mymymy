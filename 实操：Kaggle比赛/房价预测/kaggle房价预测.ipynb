{
 "cells": [
  {
   "cell_type": "code",
   "execution_count": 4,
   "id": "initial_id",
   "metadata": {
    "collapsed": true,
    "ExecuteTime": {
     "end_time": "2023-11-27T09:16:39.443829600Z",
     "start_time": "2023-11-27T09:16:38.112552100Z"
    }
   },
   "outputs": [
    {
     "data": {
      "text/plain": "(   MSSubClass  LotFrontage   LotArea  OverallQual  OverallCond  YearBuilt  \\\n 0    0.067320    -0.184443 -0.217841     0.646073    -0.507197   1.046078   \n 1   -0.873466     0.458096 -0.072032    -0.063174     2.187904   0.154737   \n 2    0.067320    -0.055935  0.137173     0.646073    -0.507197   0.980053   \n 3    0.302516    -0.398622 -0.078371     0.646073    -0.507197  -1.859033   \n 4    0.067320     0.629439  0.518814     1.355319    -0.507197   0.947040   \n \n    YearRemodAdd  MasVnrArea  BsmtFinSF1  BsmtFinSF2  ...  SaleType_Oth  \\\n 0      0.896679    0.523038    0.580708    -0.29303  ...         False   \n 1     -0.395536   -0.569893    1.177709    -0.29303  ...         False   \n 2      0.848819    0.333448    0.097840    -0.29303  ...         False   \n 3     -0.682695   -0.569893   -0.494771    -0.29303  ...         False   \n 4      0.753100    1.381770    0.468770    -0.29303  ...         False   \n \n    SaleType_WD  SaleType_nan  SaleCondition_Abnorml  SaleCondition_AdjLand  \\\n 0         True         False                  False                  False   \n 1         True         False                  False                  False   \n 2         True         False                  False                  False   \n 3         True         False                   True                  False   \n 4         True         False                  False                  False   \n \n    SaleCondition_Alloca  SaleCondition_Family  SaleCondition_Normal  \\\n 0                 False                 False                  True   \n 1                 False                 False                  True   \n 2                 False                 False                  True   \n 3                 False                 False                 False   \n 4                 False                 False                  True   \n \n    SaleCondition_Partial  SaleCondition_nan  \n 0                  False              False  \n 1                  False              False  \n 2                  False              False  \n 3                  False              False  \n 4                  False              False  \n \n [5 rows x 330 columns],\n (2919, 330))"
     },
     "execution_count": 4,
     "metadata": {},
     "output_type": "execute_result"
    }
   ],
   "source": [
    "import pandas as pd\n",
    "\n",
    "# 加载数据\n",
    "train = pd.read_csv('house-prices-advanced-regression-techniques/train.csv')\n",
    "test = pd.read_csv('house-prices-advanced-regression-techniques/test.csv')\n",
    "test_price = pd.read_csv('house-prices-advanced-regression-techniques/sample_submission.csv')\n",
    "\n",
    "#处理数据\n",
    "all_features = pd.concat((train.iloc[:, 1:-1], test.iloc[:, 1:]))# 训练集最后一列price和第一列if不需要，删去；测试集第一列id也不需要，两个数据按列方向拼合在一起，否则axis=1\n",
    "\n",
    "# 将训练集和测试集里面的数字跳出来，进行归一化以及将NA的值变成0\n",
    "numeric_features = all_features.dtypes[all_features.dtypes != 'object'].index\n",
    "all_features[numeric_features] = all_features[numeric_features].apply(lambda x: (x-x.mean())/(x.std()))\n",
    "all_features[numeric_features] = all_features[numeric_features].fillna(0)\n",
    "\n",
    "# 将分类的数据变为one-hot编码，dummy_na这意味着对于每个缺失值的分类列，将创建一个附加列来指示该值是否缺失。\n",
    "all_features = pd.get_dummies(all_features, dummy_na=True)# 对于数字数据，它不会改变或影响数字列\n",
    "\n",
    "(all_features.head(), all_features.shape)"
   ]
  },
  {
   "cell_type": "markdown",
   "source": [
    "处理完数据，将数据集拆分并且转化为张量"
   ],
   "metadata": {
    "collapsed": false
   },
   "id": "24fd80570f429dd2"
  },
  {
   "cell_type": "markdown",
   "source": [
    "此处有版本问题，pandas在转换的时候不同，新版本转换成true-false编码 老版本转换成0-1，导致下面报错，故增加了astype(float)先将bool变为float"
   ],
   "metadata": {
    "collapsed": false
   },
   "id": "b2de5e37ea38ba72"
  },
  {
   "cell_type": "code",
   "execution_count": 5,
   "outputs": [
    {
     "data": {
      "text/plain": "(torch.Size([1460, 330]), torch.Size([1459, 330]), torch.Size([1460, 1]))"
     },
     "execution_count": 5,
     "metadata": {},
     "output_type": "execute_result"
    }
   ],
   "source": [
    "import torch\n",
    "n_train = train.shape[0]\n",
    "\n",
    "train_features = torch.tensor(all_features[:n_train].values.astype(float), dtype=torch.float32)\n",
    "test_features = torch.tensor(all_features[n_train:].values.astype(float), dtype=torch.float32)\n",
    "train_labels = torch.tensor(train.SalePrice.values.reshape(-1, 1), dtype=torch.float32)# pd检索不仅仅可以是使用['']的方式，也可以使用.这样的方法\n",
    "\n",
    "(train_features.shape,test_features.shape,train_labels.shape)"
   ],
   "metadata": {
    "collapsed": false,
    "ExecuteTime": {
     "end_time": "2023-11-27T09:16:44.869430Z",
     "start_time": "2023-11-27T09:16:39.437992700Z"
    }
   },
   "id": "3cf936ed02fd3fd7"
  },
  {
   "cell_type": "markdown",
   "source": [
    "准备开始训练模型"
   ],
   "metadata": {
    "collapsed": false
   },
   "id": "1768afdd15bb0376"
  },
  {
   "cell_type": "code",
   "execution_count": 6,
   "outputs": [],
   "source": [
    "from torch import nn\n",
    "\n",
    "loss = nn.MSELoss()\n",
    "in_features = train_features.shape[1]\n",
    "\n",
    "def init_weights(m):# 初始化线性层的权重\n",
    "    if type(m) == nn.Linear:# 使用m表示模块（layer/module）,如果这个模块是线性层 (nn.Linear)，则使用Xavier进行权重初始化\n",
    "        nn.init.xavier_normal_(m.weight)# 这里使用 nn.init.xavier_normal 函数\n",
    "\n",
    "def get_net(dropout): # 构建一个模型\n",
    "    net = nn.Sequential(nn.Linear(in_features, 32), nn.ReLU(), nn.Dropout(dropout), nn.Linear(32, 1))\n",
    "    net.apply(init_weights)# 无需设置b，因为nn.Linear默认设置有偏差bias\n",
    "    return net\n",
    "\n",
    "def log_rmse(net, features, labels):# 消除量纲，更关心相对误差，房价的值差异较大，做了对数处理然后MSE，再进行开方变成RMSE\n",
    "    clipped_preds = torch.clamp(net(features), 1, float('inf')) # 允许你将张量的值限制在指定范围内，小于1的都放置为等于1\n",
    "    rmse = torch.sqrt(loss(torch.log(clipped_preds), torch.log(labels)))\n",
    "    return rmse.item() # Returns the value of this tensor as a standard Python number."
   ],
   "metadata": {
    "collapsed": false,
    "ExecuteTime": {
     "end_time": "2023-11-27T09:16:44.869430Z",
     "start_time": "2023-11-27T09:16:44.863213100Z"
    }
   },
   "id": "f65a7ea2d0f6ea34"
  },
  {
   "cell_type": "markdown",
   "source": [
    "创建一个 torch.utils.data.TensorDataset 实例，这个实例将输入的数据数组转换为 PyTorch 数据集。TensorDataset 是 PyTorch 提供的一个用于处理张量数据的数据集类。\n",
    "使用 torch.utils.data.DataLoader 创建一个数据加载器，它将数据集划分为批次，并允许你按照指定的 batch_size 和 shuffle 参数来加载数据。这个数据加载器将在训练模型时用于迭代访问数据。"
   ],
   "metadata": {
    "collapsed": false
   },
   "id": "a3d46907186efce6"
  },
  {
   "cell_type": "code",
   "execution_count": 7,
   "outputs": [],
   "source": [
    "def train(net, train_features, train_labels, test_features, test_labels, num_epochs, learning_rate, weight_dacay, batch_size):\n",
    "    train_ls, test_ls = [],[]\n",
    "    train_dataset = torch.utils.data.TensorDataset(train_features, train_labels)\n",
    "    train_iter = torch.utils.data.DataLoader(train_dataset, batch_size, shuffle=True)\n",
    "    optimizer = torch.optim.Adam(net.parameters(), lr=learning_rate, weight_decay=weight_dacay)# 一个比较平滑的SGD，对于学习率不那么敏感\n",
    "    for epoch in range(num_epochs):\n",
    "        for X,y in train_iter:\n",
    "            optimizer.zero_grad()\n",
    "            l = loss(net(X), y)\n",
    "            l.backward()\n",
    "            optimizer.step()\n",
    "        train_ls.append(log_rmse(net, train_features, train_labels))\n",
    "        if test_labels is not None:\n",
    "            test_ls.append(log_rmse(net, test_features, test_labels))\n",
    "    return train_ls, test_ls"
   ],
   "metadata": {
    "collapsed": false,
    "ExecuteTime": {
     "end_time": "2023-11-27T09:16:44.915222500Z",
     "start_time": "2023-11-27T09:16:44.869430Z"
    }
   },
   "id": "5419ec660fb5e3de"
  },
  {
   "cell_type": "markdown",
   "source": [
    "在训练集中使用k折交叉验证的方式进行计算，即先做k折交叉验证，再进行模型训练(batch次)，得到train、test的MSE，最后取"
   ],
   "metadata": {
    "collapsed": false
   },
   "id": "81165998f4b0c7fb"
  },
  {
   "cell_type": "code",
   "execution_count": 8,
   "outputs": [],
   "source": [
    "from sklearn.model_selection import KFold\n",
    "from d2l import torch as d2l\n",
    "\n",
    "def k_fold(k, dropout, X_train, y_train, num_epochs, learning_rate, weight_decay, batch_size):\n",
    "    train_l_sum, valid_l_sum =0, 0\n",
    "    Kf = KFold(n_splits=k, shuffle=True, random_state=7)# 使用K折验证产生迭代器\n",
    "    net = get_net(dropout)\n",
    "    for fold, (train_idx, val_idx) in enumerate(Kf.split(X_train)):# enumerate(kf.split(X))会迭代每个折叠，并在每个迭代中返回一个元组 (train_idx, val_idx)，其中 train_idx 是训练集的索引，val_idx 是验证集的索引。通过使用 enumerate 函数，我们还可以跟踪当前是第几折，并将其打印出来。\n",
    "        train_ls, valid_ls = train(net, X_train[train_idx], y_train[train_idx], X_train[val_idx], y_train[val_idx], num_epochs, learning_rate, weight_decay, batch_size)\n",
    "        train_l_sum += train_ls[-1]# 最后一轮拟合后的训练集log_rmse和验证集log_rmse\n",
    "        valid_l_sum += valid_ls[-1]\n",
    "        if fold == 0:\n",
    "            d2l.plot(list(range(1, num_epochs + 1)), [train_ls, valid_ls], xlabel='epoch', ylabel='rmse', xlim=[1,num_epochs], legend=['train', 'valid'], yscale='log') # 第一折的图像\n",
    "        print(f'fold{fold+1}, train log rmse {float(train_ls[-1]):f},valid log rmse {float(valid_ls[-1]):f}')# 五折，五次输出\n",
    "    return train_l_sum / k,valid_l_sum / k# 每一折加一次最后一轮拟合后的训练集和测试集，故最后输出要除以k"
   ],
   "metadata": {
    "collapsed": false,
    "ExecuteTime": {
     "end_time": "2023-11-27T09:16:51.846588500Z",
     "start_time": "2023-11-27T09:16:44.883543200Z"
    }
   },
   "id": "aa66edda83e7e4a"
  },
  {
   "cell_type": "code",
   "execution_count": 21,
   "outputs": [
    {
     "name": "stdout",
     "output_type": "stream",
     "text": [
      "fold1, train log rmse 0.168603,valid log rmse 0.165056\n",
      "fold2, train log rmse 0.140196,valid log rmse 0.140062\n",
      "fold3, train log rmse 0.132160,valid log rmse 0.127363\n",
      "fold4, train log rmse 0.125639,valid log rmse 0.150853\n",
      "fold5, train log rmse 0.118274,valid log rmse 0.174690\n",
      "fold6, train log rmse 0.124895,valid log rmse 0.125262\n",
      "fold7, train log rmse 0.126393,valid log rmse 0.095857\n",
      "fold8, train log rmse 0.123652,valid log rmse 0.123032\n",
      "8-折验证：平均训练log rmse:0.132477,平均验证log rmse：0.137772\n"
     ]
    },
    {
     "data": {
      "text/plain": "<Figure size 350x250 with 1 Axes>",
      "image/svg+xml": "<?xml version=\"1.0\" encoding=\"utf-8\" standalone=\"no\"?>\n<!DOCTYPE svg PUBLIC \"-//W3C//DTD SVG 1.1//EN\"\n  \"http://www.w3.org/Graphics/SVG/1.1/DTD/svg11.dtd\">\n<svg xmlns:xlink=\"http://www.w3.org/1999/xlink\" width=\"257.521875pt\" height=\"183.894592pt\" viewBox=\"0 0 257.521875 183.894592\" xmlns=\"http://www.w3.org/2000/svg\" version=\"1.1\">\n <metadata>\n  <rdf:RDF xmlns:dc=\"http://purl.org/dc/elements/1.1/\" xmlns:cc=\"http://creativecommons.org/ns#\" xmlns:rdf=\"http://www.w3.org/1999/02/22-rdf-syntax-ns#\">\n   <cc:Work>\n    <dc:type rdf:resource=\"http://purl.org/dc/dcmitype/StillImage\"/>\n    <dc:date>2023-11-27T17:33:49.508721</dc:date>\n    <dc:format>image/svg+xml</dc:format>\n    <dc:creator>\n     <cc:Agent>\n      <dc:title>Matplotlib v3.7.2, https://matplotlib.org/</dc:title>\n     </cc:Agent>\n    </dc:creator>\n   </cc:Work>\n  </rdf:RDF>\n </metadata>\n <defs>\n  <style type=\"text/css\">*{stroke-linejoin: round; stroke-linecap: butt}</style>\n </defs>\n <g id=\"figure_1\">\n  <g id=\"patch_1\">\n   <path d=\"M 0 183.894592 \nL 257.521875 183.894592 \nL 257.521875 0 \nL 0 0 \nz\n\" style=\"fill: #ffffff\"/>\n  </g>\n  <g id=\"axes_1\">\n   <g id=\"patch_2\">\n    <path d=\"M 45.478125 146.338342 \nL 240.778125 146.338342 \nL 240.778125 7.738342 \nL 45.478125 7.738342 \nz\n\" style=\"fill: #ffffff\"/>\n   </g>\n   <g id=\"matplotlib.axis_1\">\n    <g id=\"xtick_1\">\n     <g id=\"line2d_1\">\n      <path d=\"M 93.56707 146.338342 \nL 93.56707 7.738342 \n\" clip-path=\"url(#p3db5a6d877)\" style=\"fill: none; stroke: #b0b0b0; stroke-width: 0.8; stroke-linecap: square\"/>\n     </g>\n     <g id=\"line2d_2\">\n      <defs>\n       <path id=\"m0e19e506de\" d=\"M 0 0 \nL 0 3.5 \n\" style=\"stroke: #000000; stroke-width: 0.8\"/>\n      </defs>\n      <g>\n       <use xlink:href=\"#m0e19e506de\" x=\"93.56707\" y=\"146.338342\" style=\"stroke: #000000; stroke-width: 0.8\"/>\n      </g>\n     </g>\n     <g id=\"text_1\">\n      <!-- 50 -->\n      <g transform=\"translate(87.20457 160.93678) scale(0.1 -0.1)\">\n       <defs>\n        <path id=\"DejaVuSans-35\" d=\"M 691 4666 \nL 3169 4666 \nL 3169 4134 \nL 1269 4134 \nL 1269 2991 \nQ 1406 3038 1543 3061 \nQ 1681 3084 1819 3084 \nQ 2600 3084 3056 2656 \nQ 3513 2228 3513 1497 \nQ 3513 744 3044 326 \nQ 2575 -91 1722 -91 \nQ 1428 -91 1123 -41 \nQ 819 9 494 109 \nL 494 744 \nQ 775 591 1075 516 \nQ 1375 441 1709 441 \nQ 2250 441 2565 725 \nQ 2881 1009 2881 1497 \nQ 2881 1984 2565 2268 \nQ 2250 2553 1709 2553 \nQ 1456 2553 1204 2497 \nQ 953 2441 691 2322 \nL 691 4666 \nz\n\" transform=\"scale(0.015625)\"/>\n        <path id=\"DejaVuSans-30\" d=\"M 2034 4250 \nQ 1547 4250 1301 3770 \nQ 1056 3291 1056 2328 \nQ 1056 1369 1301 889 \nQ 1547 409 2034 409 \nQ 2525 409 2770 889 \nQ 3016 1369 3016 2328 \nQ 3016 3291 2770 3770 \nQ 2525 4250 2034 4250 \nz\nM 2034 4750 \nQ 2819 4750 3233 4129 \nQ 3647 3509 3647 2328 \nQ 3647 1150 3233 529 \nQ 2819 -91 2034 -91 \nQ 1250 -91 836 529 \nQ 422 1150 422 2328 \nQ 422 3509 836 4129 \nQ 1250 4750 2034 4750 \nz\n\" transform=\"scale(0.015625)\"/>\n       </defs>\n       <use xlink:href=\"#DejaVuSans-35\"/>\n       <use xlink:href=\"#DejaVuSans-30\" x=\"63.623047\"/>\n      </g>\n     </g>\n    </g>\n    <g id=\"xtick_2\">\n     <g id=\"line2d_3\">\n      <path d=\"M 142.637421 146.338342 \nL 142.637421 7.738342 \n\" clip-path=\"url(#p3db5a6d877)\" style=\"fill: none; stroke: #b0b0b0; stroke-width: 0.8; stroke-linecap: square\"/>\n     </g>\n     <g id=\"line2d_4\">\n      <g>\n       <use xlink:href=\"#m0e19e506de\" x=\"142.637421\" y=\"146.338342\" style=\"stroke: #000000; stroke-width: 0.8\"/>\n      </g>\n     </g>\n     <g id=\"text_2\">\n      <!-- 100 -->\n      <g transform=\"translate(133.093671 160.93678) scale(0.1 -0.1)\">\n       <defs>\n        <path id=\"DejaVuSans-31\" d=\"M 794 531 \nL 1825 531 \nL 1825 4091 \nL 703 3866 \nL 703 4441 \nL 1819 4666 \nL 2450 4666 \nL 2450 531 \nL 3481 531 \nL 3481 0 \nL 794 0 \nL 794 531 \nz\n\" transform=\"scale(0.015625)\"/>\n       </defs>\n       <use xlink:href=\"#DejaVuSans-31\"/>\n       <use xlink:href=\"#DejaVuSans-30\" x=\"63.623047\"/>\n       <use xlink:href=\"#DejaVuSans-30\" x=\"127.246094\"/>\n      </g>\n     </g>\n    </g>\n    <g id=\"xtick_3\">\n     <g id=\"line2d_5\">\n      <path d=\"M 191.707773 146.338342 \nL 191.707773 7.738342 \n\" clip-path=\"url(#p3db5a6d877)\" style=\"fill: none; stroke: #b0b0b0; stroke-width: 0.8; stroke-linecap: square\"/>\n     </g>\n     <g id=\"line2d_6\">\n      <g>\n       <use xlink:href=\"#m0e19e506de\" x=\"191.707773\" y=\"146.338342\" style=\"stroke: #000000; stroke-width: 0.8\"/>\n      </g>\n     </g>\n     <g id=\"text_3\">\n      <!-- 150 -->\n      <g transform=\"translate(182.164023 160.93678) scale(0.1 -0.1)\">\n       <use xlink:href=\"#DejaVuSans-31\"/>\n       <use xlink:href=\"#DejaVuSans-35\" x=\"63.623047\"/>\n       <use xlink:href=\"#DejaVuSans-30\" x=\"127.246094\"/>\n      </g>\n     </g>\n    </g>\n    <g id=\"xtick_4\">\n     <g id=\"line2d_7\">\n      <path d=\"M 240.778125 146.338342 \nL 240.778125 7.738342 \n\" clip-path=\"url(#p3db5a6d877)\" style=\"fill: none; stroke: #b0b0b0; stroke-width: 0.8; stroke-linecap: square\"/>\n     </g>\n     <g id=\"line2d_8\">\n      <g>\n       <use xlink:href=\"#m0e19e506de\" x=\"240.778125\" y=\"146.338342\" style=\"stroke: #000000; stroke-width: 0.8\"/>\n      </g>\n     </g>\n     <g id=\"text_4\">\n      <!-- 200 -->\n      <g transform=\"translate(231.234375 160.93678) scale(0.1 -0.1)\">\n       <defs>\n        <path id=\"DejaVuSans-32\" d=\"M 1228 531 \nL 3431 531 \nL 3431 0 \nL 469 0 \nL 469 531 \nQ 828 903 1448 1529 \nQ 2069 2156 2228 2338 \nQ 2531 2678 2651 2914 \nQ 2772 3150 2772 3378 \nQ 2772 3750 2511 3984 \nQ 2250 4219 1831 4219 \nQ 1534 4219 1204 4116 \nQ 875 4013 500 3803 \nL 500 4441 \nQ 881 4594 1212 4672 \nQ 1544 4750 1819 4750 \nQ 2544 4750 2975 4387 \nQ 3406 4025 3406 3419 \nQ 3406 3131 3298 2873 \nQ 3191 2616 2906 2266 \nQ 2828 2175 2409 1742 \nQ 1991 1309 1228 531 \nz\n\" transform=\"scale(0.015625)\"/>\n       </defs>\n       <use xlink:href=\"#DejaVuSans-32\"/>\n       <use xlink:href=\"#DejaVuSans-30\" x=\"63.623047\"/>\n       <use xlink:href=\"#DejaVuSans-30\" x=\"127.246094\"/>\n      </g>\n     </g>\n    </g>\n    <g id=\"text_5\">\n     <!-- epoch -->\n     <g transform=\"translate(127.9 174.614905) scale(0.1 -0.1)\">\n      <defs>\n       <path id=\"DejaVuSans-65\" d=\"M 3597 1894 \nL 3597 1613 \nL 953 1613 \nQ 991 1019 1311 708 \nQ 1631 397 2203 397 \nQ 2534 397 2845 478 \nQ 3156 559 3463 722 \nL 3463 178 \nQ 3153 47 2828 -22 \nQ 2503 -91 2169 -91 \nQ 1331 -91 842 396 \nQ 353 884 353 1716 \nQ 353 2575 817 3079 \nQ 1281 3584 2069 3584 \nQ 2775 3584 3186 3129 \nQ 3597 2675 3597 1894 \nz\nM 3022 2063 \nQ 3016 2534 2758 2815 \nQ 2500 3097 2075 3097 \nQ 1594 3097 1305 2825 \nQ 1016 2553 972 2059 \nL 3022 2063 \nz\n\" transform=\"scale(0.015625)\"/>\n       <path id=\"DejaVuSans-70\" d=\"M 1159 525 \nL 1159 -1331 \nL 581 -1331 \nL 581 3500 \nL 1159 3500 \nL 1159 2969 \nQ 1341 3281 1617 3432 \nQ 1894 3584 2278 3584 \nQ 2916 3584 3314 3078 \nQ 3713 2572 3713 1747 \nQ 3713 922 3314 415 \nQ 2916 -91 2278 -91 \nQ 1894 -91 1617 61 \nQ 1341 213 1159 525 \nz\nM 3116 1747 \nQ 3116 2381 2855 2742 \nQ 2594 3103 2138 3103 \nQ 1681 3103 1420 2742 \nQ 1159 2381 1159 1747 \nQ 1159 1113 1420 752 \nQ 1681 391 2138 391 \nQ 2594 391 2855 752 \nQ 3116 1113 3116 1747 \nz\n\" transform=\"scale(0.015625)\"/>\n       <path id=\"DejaVuSans-6f\" d=\"M 1959 3097 \nQ 1497 3097 1228 2736 \nQ 959 2375 959 1747 \nQ 959 1119 1226 758 \nQ 1494 397 1959 397 \nQ 2419 397 2687 759 \nQ 2956 1122 2956 1747 \nQ 2956 2369 2687 2733 \nQ 2419 3097 1959 3097 \nz\nM 1959 3584 \nQ 2709 3584 3137 3096 \nQ 3566 2609 3566 1747 \nQ 3566 888 3137 398 \nQ 2709 -91 1959 -91 \nQ 1206 -91 779 398 \nQ 353 888 353 1747 \nQ 353 2609 779 3096 \nQ 1206 3584 1959 3584 \nz\n\" transform=\"scale(0.015625)\"/>\n       <path id=\"DejaVuSans-63\" d=\"M 3122 3366 \nL 3122 2828 \nQ 2878 2963 2633 3030 \nQ 2388 3097 2138 3097 \nQ 1578 3097 1268 2742 \nQ 959 2388 959 1747 \nQ 959 1106 1268 751 \nQ 1578 397 2138 397 \nQ 2388 397 2633 464 \nQ 2878 531 3122 666 \nL 3122 134 \nQ 2881 22 2623 -34 \nQ 2366 -91 2075 -91 \nQ 1284 -91 818 406 \nQ 353 903 353 1747 \nQ 353 2603 823 3093 \nQ 1294 3584 2113 3584 \nQ 2378 3584 2631 3529 \nQ 2884 3475 3122 3366 \nz\n\" transform=\"scale(0.015625)\"/>\n       <path id=\"DejaVuSans-68\" d=\"M 3513 2113 \nL 3513 0 \nL 2938 0 \nL 2938 2094 \nQ 2938 2591 2744 2837 \nQ 2550 3084 2163 3084 \nQ 1697 3084 1428 2787 \nQ 1159 2491 1159 1978 \nL 1159 0 \nL 581 0 \nL 581 4863 \nL 1159 4863 \nL 1159 2956 \nQ 1366 3272 1645 3428 \nQ 1925 3584 2291 3584 \nQ 2894 3584 3203 3211 \nQ 3513 2838 3513 2113 \nz\n\" transform=\"scale(0.015625)\"/>\n      </defs>\n      <use xlink:href=\"#DejaVuSans-65\"/>\n      <use xlink:href=\"#DejaVuSans-70\" x=\"61.523438\"/>\n      <use xlink:href=\"#DejaVuSans-6f\" x=\"125\"/>\n      <use xlink:href=\"#DejaVuSans-63\" x=\"186.181641\"/>\n      <use xlink:href=\"#DejaVuSans-68\" x=\"241.162109\"/>\n     </g>\n    </g>\n   </g>\n   <g id=\"matplotlib.axis_2\">\n    <g id=\"ytick_1\">\n     <g id=\"line2d_9\">\n      <path d=\"M 45.478125 83.396793 \nL 240.778125 83.396793 \n\" clip-path=\"url(#p3db5a6d877)\" style=\"fill: none; stroke: #b0b0b0; stroke-width: 0.8; stroke-linecap: square\"/>\n     </g>\n     <g id=\"line2d_10\">\n      <defs>\n       <path id=\"md46dd99975\" d=\"M 0 0 \nL -3.5 0 \n\" style=\"stroke: #000000; stroke-width: 0.8\"/>\n      </defs>\n      <g>\n       <use xlink:href=\"#md46dd99975\" x=\"45.478125\" y=\"83.396793\" style=\"stroke: #000000; stroke-width: 0.8\"/>\n      </g>\n     </g>\n     <g id=\"text_6\">\n      <!-- $\\mathdefault{10^{0}}$ -->\n      <g transform=\"translate(20.878125 87.196012) scale(0.1 -0.1)\">\n       <use xlink:href=\"#DejaVuSans-31\" transform=\"translate(0 0.765625)\"/>\n       <use xlink:href=\"#DejaVuSans-30\" transform=\"translate(63.623047 0.765625)\"/>\n       <use xlink:href=\"#DejaVuSans-30\" transform=\"translate(128.203125 39.046875) scale(0.7)\"/>\n      </g>\n     </g>\n    </g>\n    <g id=\"ytick_2\">\n     <g id=\"line2d_11\">\n      <path d=\"M 45.478125 10.999219 \nL 240.778125 10.999219 \n\" clip-path=\"url(#p3db5a6d877)\" style=\"fill: none; stroke: #b0b0b0; stroke-width: 0.8; stroke-linecap: square\"/>\n     </g>\n     <g id=\"line2d_12\">\n      <g>\n       <use xlink:href=\"#md46dd99975\" x=\"45.478125\" y=\"10.999219\" style=\"stroke: #000000; stroke-width: 0.8\"/>\n      </g>\n     </g>\n     <g id=\"text_7\">\n      <!-- $\\mathdefault{10^{1}}$ -->\n      <g transform=\"translate(20.878125 14.798438) scale(0.1 -0.1)\">\n       <use xlink:href=\"#DejaVuSans-31\" transform=\"translate(0 0.684375)\"/>\n       <use xlink:href=\"#DejaVuSans-30\" transform=\"translate(63.623047 0.684375)\"/>\n       <use xlink:href=\"#DejaVuSans-31\" transform=\"translate(128.203125 38.965625) scale(0.7)\"/>\n      </g>\n     </g>\n    </g>\n    <g id=\"ytick_3\">\n     <g id=\"line2d_13\">\n      <defs>\n       <path id=\"m13c6b07eb7\" d=\"M 0 0 \nL -2 0 \n\" style=\"stroke: #000000; stroke-width: 0.6\"/>\n      </defs>\n      <g>\n       <use xlink:href=\"#m13c6b07eb7\" x=\"45.478125\" y=\"134.000526\" style=\"stroke: #000000; stroke-width: 0.6\"/>\n      </g>\n     </g>\n    </g>\n    <g id=\"ytick_4\">\n     <g id=\"line2d_14\">\n      <g>\n       <use xlink:href=\"#m13c6b07eb7\" x=\"45.478125\" y=\"121.251946\" style=\"stroke: #000000; stroke-width: 0.6\"/>\n      </g>\n     </g>\n    </g>\n    <g id=\"ytick_5\">\n     <g id=\"line2d_15\">\n      <g>\n       <use xlink:href=\"#m13c6b07eb7\" x=\"45.478125\" y=\"112.206685\" style=\"stroke: #000000; stroke-width: 0.6\"/>\n      </g>\n     </g>\n    </g>\n    <g id=\"ytick_6\">\n     <g id=\"line2d_16\">\n      <g>\n       <use xlink:href=\"#m13c6b07eb7\" x=\"45.478125\" y=\"105.190635\" style=\"stroke: #000000; stroke-width: 0.6\"/>\n      </g>\n     </g>\n    </g>\n    <g id=\"ytick_7\">\n     <g id=\"line2d_17\">\n      <g>\n       <use xlink:href=\"#m13c6b07eb7\" x=\"45.478125\" y=\"99.458105\" style=\"stroke: #000000; stroke-width: 0.6\"/>\n      </g>\n     </g>\n    </g>\n    <g id=\"ytick_8\">\n     <g id=\"line2d_18\">\n      <g>\n       <use xlink:href=\"#m13c6b07eb7\" x=\"45.478125\" y=\"94.61132\" style=\"stroke: #000000; stroke-width: 0.6\"/>\n      </g>\n     </g>\n    </g>\n    <g id=\"ytick_9\">\n     <g id=\"line2d_19\">\n      <g>\n       <use xlink:href=\"#m13c6b07eb7\" x=\"45.478125\" y=\"90.412843\" style=\"stroke: #000000; stroke-width: 0.6\"/>\n      </g>\n     </g>\n    </g>\n    <g id=\"ytick_10\">\n     <g id=\"line2d_20\">\n      <g>\n       <use xlink:href=\"#m13c6b07eb7\" x=\"45.478125\" y=\"86.709525\" style=\"stroke: #000000; stroke-width: 0.6\"/>\n      </g>\n     </g>\n    </g>\n    <g id=\"ytick_11\">\n     <g id=\"line2d_21\">\n      <g>\n       <use xlink:href=\"#m13c6b07eb7\" x=\"45.478125\" y=\"61.602952\" style=\"stroke: #000000; stroke-width: 0.6\"/>\n      </g>\n     </g>\n    </g>\n    <g id=\"ytick_12\">\n     <g id=\"line2d_22\">\n      <g>\n       <use xlink:href=\"#m13c6b07eb7\" x=\"45.478125\" y=\"48.854372\" style=\"stroke: #000000; stroke-width: 0.6\"/>\n      </g>\n     </g>\n    </g>\n    <g id=\"ytick_13\">\n     <g id=\"line2d_23\">\n      <g>\n       <use xlink:href=\"#m13c6b07eb7\" x=\"45.478125\" y=\"39.80911\" style=\"stroke: #000000; stroke-width: 0.6\"/>\n      </g>\n     </g>\n    </g>\n    <g id=\"ytick_14\">\n     <g id=\"line2d_24\">\n      <g>\n       <use xlink:href=\"#m13c6b07eb7\" x=\"45.478125\" y=\"32.79306\" style=\"stroke: #000000; stroke-width: 0.6\"/>\n      </g>\n     </g>\n    </g>\n    <g id=\"ytick_15\">\n     <g id=\"line2d_25\">\n      <g>\n       <use xlink:href=\"#m13c6b07eb7\" x=\"45.478125\" y=\"27.06053\" style=\"stroke: #000000; stroke-width: 0.6\"/>\n      </g>\n     </g>\n    </g>\n    <g id=\"ytick_16\">\n     <g id=\"line2d_26\">\n      <g>\n       <use xlink:href=\"#m13c6b07eb7\" x=\"45.478125\" y=\"22.213745\" style=\"stroke: #000000; stroke-width: 0.6\"/>\n      </g>\n     </g>\n    </g>\n    <g id=\"ytick_17\">\n     <g id=\"line2d_27\">\n      <g>\n       <use xlink:href=\"#m13c6b07eb7\" x=\"45.478125\" y=\"18.015269\" style=\"stroke: #000000; stroke-width: 0.6\"/>\n      </g>\n     </g>\n    </g>\n    <g id=\"ytick_18\">\n     <g id=\"line2d_28\">\n      <g>\n       <use xlink:href=\"#m13c6b07eb7\" x=\"45.478125\" y=\"14.31195\" style=\"stroke: #000000; stroke-width: 0.6\"/>\n      </g>\n     </g>\n    </g>\n    <g id=\"text_8\">\n     <!-- rmse -->\n     <g transform=\"translate(14.798437 89.557873) rotate(-90) scale(0.1 -0.1)\">\n      <defs>\n       <path id=\"DejaVuSans-72\" d=\"M 2631 2963 \nQ 2534 3019 2420 3045 \nQ 2306 3072 2169 3072 \nQ 1681 3072 1420 2755 \nQ 1159 2438 1159 1844 \nL 1159 0 \nL 581 0 \nL 581 3500 \nL 1159 3500 \nL 1159 2956 \nQ 1341 3275 1631 3429 \nQ 1922 3584 2338 3584 \nQ 2397 3584 2469 3576 \nQ 2541 3569 2628 3553 \nL 2631 2963 \nz\n\" transform=\"scale(0.015625)\"/>\n       <path id=\"DejaVuSans-6d\" d=\"M 3328 2828 \nQ 3544 3216 3844 3400 \nQ 4144 3584 4550 3584 \nQ 5097 3584 5394 3201 \nQ 5691 2819 5691 2113 \nL 5691 0 \nL 5113 0 \nL 5113 2094 \nQ 5113 2597 4934 2840 \nQ 4756 3084 4391 3084 \nQ 3944 3084 3684 2787 \nQ 3425 2491 3425 1978 \nL 3425 0 \nL 2847 0 \nL 2847 2094 \nQ 2847 2600 2669 2842 \nQ 2491 3084 2119 3084 \nQ 1678 3084 1418 2786 \nQ 1159 2488 1159 1978 \nL 1159 0 \nL 581 0 \nL 581 3500 \nL 1159 3500 \nL 1159 2956 \nQ 1356 3278 1631 3431 \nQ 1906 3584 2284 3584 \nQ 2666 3584 2933 3390 \nQ 3200 3197 3328 2828 \nz\n\" transform=\"scale(0.015625)\"/>\n       <path id=\"DejaVuSans-73\" d=\"M 2834 3397 \nL 2834 2853 \nQ 2591 2978 2328 3040 \nQ 2066 3103 1784 3103 \nQ 1356 3103 1142 2972 \nQ 928 2841 928 2578 \nQ 928 2378 1081 2264 \nQ 1234 2150 1697 2047 \nL 1894 2003 \nQ 2506 1872 2764 1633 \nQ 3022 1394 3022 966 \nQ 3022 478 2636 193 \nQ 2250 -91 1575 -91 \nQ 1294 -91 989 -36 \nQ 684 19 347 128 \nL 347 722 \nQ 666 556 975 473 \nQ 1284 391 1588 391 \nQ 1994 391 2212 530 \nQ 2431 669 2431 922 \nQ 2431 1156 2273 1281 \nQ 2116 1406 1581 1522 \nL 1381 1569 \nQ 847 1681 609 1914 \nQ 372 2147 372 2553 \nQ 372 3047 722 3315 \nQ 1072 3584 1716 3584 \nQ 2034 3584 2315 3537 \nQ 2597 3491 2834 3397 \nz\n\" transform=\"scale(0.015625)\"/>\n      </defs>\n      <use xlink:href=\"#DejaVuSans-72\"/>\n      <use xlink:href=\"#DejaVuSans-6d\" x=\"39.363281\"/>\n      <use xlink:href=\"#DejaVuSans-73\" x=\"136.775391\"/>\n      <use xlink:href=\"#DejaVuSans-65\" x=\"188.875\"/>\n     </g>\n    </g>\n   </g>\n   <g id=\"line2d_29\">\n    <path d=\"M 45.478125 14.19861 \nL 46.459532 18.367944 \nL 47.440939 21.585808 \nL 48.422346 24.287423 \nL 50.38516 28.72117 \nL 52.347974 32.325272 \nL 54.310788 35.420889 \nL 56.273602 38.182276 \nL 59.217823 41.872276 \nL 62.162045 45.200372 \nL 66.087673 49.243832 \nL 70.013301 52.983154 \nL 74.920336 57.387893 \nL 82.771592 64.035505 \nL 95.529884 74.4178 \nL 106.325361 83.2213 \nL 115.158024 90.625795 \nL 128.897723 102.677094 \nL 147.544457 119.440241 \nL 152.451492 123.500279 \nL 156.37712 126.452697 \nL 160.302748 129.081985 \nL 163.246969 130.813117 \nL 166.19119 132.292275 \nL 169.135411 133.565058 \nL 172.079633 134.613162 \nL 176.005261 135.692942 \nL 179.930889 136.47982 \nL 183.856517 137.05653 \nL 189.744959 137.622086 \nL 198.577622 138.146845 \nL 217.224356 138.857266 \nL 240.778125 139.369926 \nL 240.778125 139.369926 \n\" clip-path=\"url(#p3db5a6d877)\" style=\"fill: none; stroke: #1f77b4; stroke-width: 1.5; stroke-linecap: square\"/>\n   </g>\n   <g id=\"line2d_30\">\n    <path d=\"M 45.478125 14.038342 \nL 46.459532 18.2109 \nL 47.440939 21.418084 \nL 48.422346 24.106875 \nL 50.38516 28.521244 \nL 52.347974 32.100744 \nL 54.310788 35.174812 \nL 57.255009 39.188081 \nL 60.199231 42.711045 \nL 63.143452 45.901062 \nL 67.06908 49.815422 \nL 71.976115 54.332415 \nL 78.845964 60.220006 \nL 88.660035 68.171665 \nL 116.139432 90.156532 \nL 124.972095 97.550437 \nL 136.748979 107.693745 \nL 144.600236 114.456936 \nL 150.488678 119.31702 \nL 154.414306 122.373556 \nL 159.321341 125.845482 \nL 163.246969 128.314722 \nL 167.172597 130.443391 \nL 170.116818 131.808426 \nL 173.06104 132.987024 \nL 176.986668 134.290079 \nL 179.930889 135.074868 \nL 182.87511 135.743226 \nL 186.800738 136.436791 \nL 190.726366 136.977896 \nL 196.614808 137.616824 \nL 204.466065 138.251044 \nL 218.205763 139.073163 \nL 237.833904 139.933355 \nL 240.778125 140.038342 \nL 240.778125 140.038342 \n\" clip-path=\"url(#p3db5a6d877)\" style=\"fill: none; stroke-dasharray: 5.55,2.4; stroke-dashoffset: 0; stroke: #bf00bf; stroke-width: 1.5\"/>\n   </g>\n   <g id=\"patch_3\">\n    <path d=\"M 45.478125 146.338342 \nL 45.478125 7.738342 \n\" style=\"fill: none; stroke: #000000; stroke-width: 0.8; stroke-linejoin: miter; stroke-linecap: square\"/>\n   </g>\n   <g id=\"patch_4\">\n    <path d=\"M 240.778125 146.338342 \nL 240.778125 7.738342 \n\" style=\"fill: none; stroke: #000000; stroke-width: 0.8; stroke-linejoin: miter; stroke-linecap: square\"/>\n   </g>\n   <g id=\"patch_5\">\n    <path d=\"M 45.478125 146.338342 \nL 240.778125 146.338342 \n\" style=\"fill: none; stroke: #000000; stroke-width: 0.8; stroke-linejoin: miter; stroke-linecap: square\"/>\n   </g>\n   <g id=\"patch_6\">\n    <path d=\"M 45.478125 7.738342 \nL 240.778125 7.738342 \n\" style=\"fill: none; stroke: #000000; stroke-width: 0.8; stroke-linejoin: miter; stroke-linecap: square\"/>\n   </g>\n   <g id=\"legend_1\">\n    <g id=\"patch_7\">\n     <path d=\"M 177.826562 45.094592 \nL 233.778125 45.094592 \nQ 235.778125 45.094592 235.778125 43.094592 \nL 235.778125 14.738342 \nQ 235.778125 12.738342 233.778125 12.738342 \nL 177.826562 12.738342 \nQ 175.826562 12.738342 175.826562 14.738342 \nL 175.826562 43.094592 \nQ 175.826562 45.094592 177.826562 45.094592 \nz\n\" style=\"fill: #ffffff; opacity: 0.8; stroke: #cccccc; stroke-linejoin: miter\"/>\n    </g>\n    <g id=\"line2d_31\">\n     <path d=\"M 179.826562 20.83678 \nL 189.826562 20.83678 \nL 199.826562 20.83678 \n\" style=\"fill: none; stroke: #1f77b4; stroke-width: 1.5; stroke-linecap: square\"/>\n    </g>\n    <g id=\"text_9\">\n     <!-- train -->\n     <g transform=\"translate(207.826562 24.33678) scale(0.1 -0.1)\">\n      <defs>\n       <path id=\"DejaVuSans-74\" d=\"M 1172 4494 \nL 1172 3500 \nL 2356 3500 \nL 2356 3053 \nL 1172 3053 \nL 1172 1153 \nQ 1172 725 1289 603 \nQ 1406 481 1766 481 \nL 2356 481 \nL 2356 0 \nL 1766 0 \nQ 1100 0 847 248 \nQ 594 497 594 1153 \nL 594 3053 \nL 172 3053 \nL 172 3500 \nL 594 3500 \nL 594 4494 \nL 1172 4494 \nz\n\" transform=\"scale(0.015625)\"/>\n       <path id=\"DejaVuSans-61\" d=\"M 2194 1759 \nQ 1497 1759 1228 1600 \nQ 959 1441 959 1056 \nQ 959 750 1161 570 \nQ 1363 391 1709 391 \nQ 2188 391 2477 730 \nQ 2766 1069 2766 1631 \nL 2766 1759 \nL 2194 1759 \nz\nM 3341 1997 \nL 3341 0 \nL 2766 0 \nL 2766 531 \nQ 2569 213 2275 61 \nQ 1981 -91 1556 -91 \nQ 1019 -91 701 211 \nQ 384 513 384 1019 \nQ 384 1609 779 1909 \nQ 1175 2209 1959 2209 \nL 2766 2209 \nL 2766 2266 \nQ 2766 2663 2505 2880 \nQ 2244 3097 1772 3097 \nQ 1472 3097 1187 3025 \nQ 903 2953 641 2809 \nL 641 3341 \nQ 956 3463 1253 3523 \nQ 1550 3584 1831 3584 \nQ 2591 3584 2966 3190 \nQ 3341 2797 3341 1997 \nz\n\" transform=\"scale(0.015625)\"/>\n       <path id=\"DejaVuSans-69\" d=\"M 603 3500 \nL 1178 3500 \nL 1178 0 \nL 603 0 \nL 603 3500 \nz\nM 603 4863 \nL 1178 4863 \nL 1178 4134 \nL 603 4134 \nL 603 4863 \nz\n\" transform=\"scale(0.015625)\"/>\n       <path id=\"DejaVuSans-6e\" d=\"M 3513 2113 \nL 3513 0 \nL 2938 0 \nL 2938 2094 \nQ 2938 2591 2744 2837 \nQ 2550 3084 2163 3084 \nQ 1697 3084 1428 2787 \nQ 1159 2491 1159 1978 \nL 1159 0 \nL 581 0 \nL 581 3500 \nL 1159 3500 \nL 1159 2956 \nQ 1366 3272 1645 3428 \nQ 1925 3584 2291 3584 \nQ 2894 3584 3203 3211 \nQ 3513 2838 3513 2113 \nz\n\" transform=\"scale(0.015625)\"/>\n      </defs>\n      <use xlink:href=\"#DejaVuSans-74\"/>\n      <use xlink:href=\"#DejaVuSans-72\" x=\"39.208984\"/>\n      <use xlink:href=\"#DejaVuSans-61\" x=\"80.322266\"/>\n      <use xlink:href=\"#DejaVuSans-69\" x=\"141.601562\"/>\n      <use xlink:href=\"#DejaVuSans-6e\" x=\"169.384766\"/>\n     </g>\n    </g>\n    <g id=\"line2d_32\">\n     <path d=\"M 179.826562 35.514905 \nL 189.826562 35.514905 \nL 199.826562 35.514905 \n\" style=\"fill: none; stroke-dasharray: 5.55,2.4; stroke-dashoffset: 0; stroke: #bf00bf; stroke-width: 1.5\"/>\n    </g>\n    <g id=\"text_10\">\n     <!-- valid -->\n     <g transform=\"translate(207.826562 39.014905) scale(0.1 -0.1)\">\n      <defs>\n       <path id=\"DejaVuSans-76\" d=\"M 191 3500 \nL 800 3500 \nL 1894 563 \nL 2988 3500 \nL 3597 3500 \nL 2284 0 \nL 1503 0 \nL 191 3500 \nz\n\" transform=\"scale(0.015625)\"/>\n       <path id=\"DejaVuSans-6c\" d=\"M 603 4863 \nL 1178 4863 \nL 1178 0 \nL 603 0 \nL 603 4863 \nz\n\" transform=\"scale(0.015625)\"/>\n       <path id=\"DejaVuSans-64\" d=\"M 2906 2969 \nL 2906 4863 \nL 3481 4863 \nL 3481 0 \nL 2906 0 \nL 2906 525 \nQ 2725 213 2448 61 \nQ 2172 -91 1784 -91 \nQ 1150 -91 751 415 \nQ 353 922 353 1747 \nQ 353 2572 751 3078 \nQ 1150 3584 1784 3584 \nQ 2172 3584 2448 3432 \nQ 2725 3281 2906 2969 \nz\nM 947 1747 \nQ 947 1113 1208 752 \nQ 1469 391 1925 391 \nQ 2381 391 2643 752 \nQ 2906 1113 2906 1747 \nQ 2906 2381 2643 2742 \nQ 2381 3103 1925 3103 \nQ 1469 3103 1208 2742 \nQ 947 2381 947 1747 \nz\n\" transform=\"scale(0.015625)\"/>\n      </defs>\n      <use xlink:href=\"#DejaVuSans-76\"/>\n      <use xlink:href=\"#DejaVuSans-61\" x=\"59.179688\"/>\n      <use xlink:href=\"#DejaVuSans-6c\" x=\"120.458984\"/>\n      <use xlink:href=\"#DejaVuSans-69\" x=\"148.242188\"/>\n      <use xlink:href=\"#DejaVuSans-64\" x=\"176.025391\"/>\n     </g>\n    </g>\n   </g>\n  </g>\n </g>\n <defs>\n  <clipPath id=\"p3db5a6d877\">\n   <rect x=\"45.478125\" y=\"7.738342\" width=\"195.3\" height=\"138.6\"/>\n  </clipPath>\n </defs>\n</svg>\n"
     },
     "metadata": {},
     "output_type": "display_data"
    }
   ],
   "source": [
    "k, num_epochs, lr, weight_decay, dropout, batch_size = 8, 200, 0.005, 0, 0, 64\n",
    "\n",
    "train_l, valid_l = k_fold(k, dropout, train_features, train_labels, num_epochs, lr, weight_decay, batch_size)\n",
    "print(f'{k}-折验证：平均训练log rmse:{float(train_l):f},平均验证log rmse：{float(valid_l):f}')"
   ],
   "metadata": {
    "collapsed": false,
    "ExecuteTime": {
     "end_time": "2023-11-27T09:33:49.581488600Z",
     "start_time": "2023-11-27T09:32:45.913290500Z"
    }
   },
   "id": "dea9558acd900552"
  },
  {
   "cell_type": "markdown",
   "source": [
    "**学习率越高，拟合速度越快，但可能过快造成波动\n",
    "做Xavier初始化可以使得初始值更合理，缩短拟合路径\n",
    "Dropout 是为了过拟合，可能会减慢模型的训练速度\n",
    "权重衰减（通常称为 L2 正则化）是为了过拟合，如果正则化项设置得太高，它可能会使模型难以拟合数据，从而减慢学习过程\n",
    "迭代次数越多，拟合也会越好，但也有可能会波动**"
   ],
   "metadata": {
    "collapsed": false
   },
   "id": "90bd5bb978cd45c5"
  }
 ],
 "metadata": {
  "kernelspec": {
   "display_name": "Python 3",
   "language": "python",
   "name": "python3"
  },
  "language_info": {
   "codemirror_mode": {
    "name": "ipython",
    "version": 2
   },
   "file_extension": ".py",
   "mimetype": "text/x-python",
   "name": "python",
   "nbconvert_exporter": "python",
   "pygments_lexer": "ipython2",
   "version": "2.7.6"
  }
 },
 "nbformat": 4,
 "nbformat_minor": 5
}
